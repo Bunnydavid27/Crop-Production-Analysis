{
 "cells": [
  {
   "cell_type": "code",
   "execution_count": 1,
   "metadata": {},
   "outputs": [],
   "source": [
    "# import required libraries\n",
    "import pandas as pd\n",
    "import numpy as np\n",
    "import matplotlib.pyplot as plt\n",
    "import seaborn as sns\n",
    "import os\n",
    "import warnings\n",
    "\n",
    "warnings.filterwarnings('ignore')\n"
   ]
  },
  {
   "cell_type": "code",
   "execution_count": 2,
   "metadata": {},
   "outputs": [],
   "source": [
    "# read the data\n",
    "df = pd.read_csv('crop_production.csv')"
   ]
  },
  {
   "cell_type": "code",
   "execution_count": 3,
   "metadata": {},
   "outputs": [
    {
     "data": {
      "text/html": [
       "<div>\n",
       "<style scoped>\n",
       "    .dataframe tbody tr th:only-of-type {\n",
       "        vertical-align: middle;\n",
       "    }\n",
       "\n",
       "    .dataframe tbody tr th {\n",
       "        vertical-align: top;\n",
       "    }\n",
       "\n",
       "    .dataframe thead th {\n",
       "        text-align: right;\n",
       "    }\n",
       "</style>\n",
       "<table border=\"1\" class=\"dataframe\">\n",
       "  <thead>\n",
       "    <tr style=\"text-align: right;\">\n",
       "      <th></th>\n",
       "      <th>State_Name</th>\n",
       "      <th>District_Name</th>\n",
       "      <th>Crop_Year</th>\n",
       "      <th>Season</th>\n",
       "      <th>Crop</th>\n",
       "      <th>Area</th>\n",
       "      <th>Production</th>\n",
       "    </tr>\n",
       "  </thead>\n",
       "  <tbody>\n",
       "    <tr>\n",
       "      <th>0</th>\n",
       "      <td>Andaman and Nicobar Islands</td>\n",
       "      <td>NICOBARS</td>\n",
       "      <td>2000</td>\n",
       "      <td>Kharif</td>\n",
       "      <td>Arecanut</td>\n",
       "      <td>1254.0</td>\n",
       "      <td>2000.0</td>\n",
       "    </tr>\n",
       "    <tr>\n",
       "      <th>1</th>\n",
       "      <td>Andaman and Nicobar Islands</td>\n",
       "      <td>NICOBARS</td>\n",
       "      <td>2000</td>\n",
       "      <td>Kharif</td>\n",
       "      <td>Other Kharif pulses</td>\n",
       "      <td>2.0</td>\n",
       "      <td>1.0</td>\n",
       "    </tr>\n",
       "    <tr>\n",
       "      <th>2</th>\n",
       "      <td>Andaman and Nicobar Islands</td>\n",
       "      <td>NICOBARS</td>\n",
       "      <td>2000</td>\n",
       "      <td>Kharif</td>\n",
       "      <td>Rice</td>\n",
       "      <td>102.0</td>\n",
       "      <td>321.0</td>\n",
       "    </tr>\n",
       "    <tr>\n",
       "      <th>3</th>\n",
       "      <td>Andaman and Nicobar Islands</td>\n",
       "      <td>NICOBARS</td>\n",
       "      <td>2000</td>\n",
       "      <td>Whole Year</td>\n",
       "      <td>Banana</td>\n",
       "      <td>176.0</td>\n",
       "      <td>641.0</td>\n",
       "    </tr>\n",
       "    <tr>\n",
       "      <th>4</th>\n",
       "      <td>Andaman and Nicobar Islands</td>\n",
       "      <td>NICOBARS</td>\n",
       "      <td>2000</td>\n",
       "      <td>Whole Year</td>\n",
       "      <td>Cashewnut</td>\n",
       "      <td>720.0</td>\n",
       "      <td>165.0</td>\n",
       "    </tr>\n",
       "  </tbody>\n",
       "</table>\n",
       "</div>"
      ],
      "text/plain": [
       "                    State_Name District_Name  Crop_Year       Season  \\\n",
       "0  Andaman and Nicobar Islands      NICOBARS       2000  Kharif        \n",
       "1  Andaman and Nicobar Islands      NICOBARS       2000  Kharif        \n",
       "2  Andaman and Nicobar Islands      NICOBARS       2000  Kharif        \n",
       "3  Andaman and Nicobar Islands      NICOBARS       2000  Whole Year    \n",
       "4  Andaman and Nicobar Islands      NICOBARS       2000  Whole Year    \n",
       "\n",
       "                  Crop    Area  Production  \n",
       "0             Arecanut  1254.0      2000.0  \n",
       "1  Other Kharif pulses     2.0         1.0  \n",
       "2                 Rice   102.0       321.0  \n",
       "3               Banana   176.0       641.0  \n",
       "4            Cashewnut   720.0       165.0  "
      ]
     },
     "execution_count": 3,
     "metadata": {},
     "output_type": "execute_result"
    }
   ],
   "source": [
    "df.head()"
   ]
  },
  {
   "cell_type": "code",
   "execution_count": 4,
   "metadata": {},
   "outputs": [
    {
     "name": "stdout",
     "output_type": "stream",
     "text": [
      "<class 'pandas.core.frame.DataFrame'>\n",
      "RangeIndex: 246091 entries, 0 to 246090\n",
      "Data columns (total 7 columns):\n",
      " #   Column         Non-Null Count   Dtype  \n",
      "---  ------         --------------   -----  \n",
      " 0   State_Name     246091 non-null  object \n",
      " 1   District_Name  246091 non-null  object \n",
      " 2   Crop_Year      246091 non-null  int64  \n",
      " 3   Season         246091 non-null  object \n",
      " 4   Crop           246091 non-null  object \n",
      " 5   Area           246091 non-null  float64\n",
      " 6   Production     242361 non-null  float64\n",
      "dtypes: float64(2), int64(1), object(4)\n",
      "memory usage: 9.4+ MB\n"
     ]
    }
   ],
   "source": [
    "df.info()"
   ]
  },
  {
   "cell_type": "code",
   "execution_count": 5,
   "metadata": {},
   "outputs": [
    {
     "data": {
      "text/plain": [
       "State_Name        object\n",
       "District_Name     object\n",
       "Crop_Year          int64\n",
       "Season            object\n",
       "Crop              object\n",
       "Area             float64\n",
       "Production       float64\n",
       "dtype: object"
      ]
     },
     "execution_count": 5,
     "metadata": {},
     "output_type": "execute_result"
    }
   ],
   "source": [
    "df.dtypes"
   ]
  },
  {
   "cell_type": "code",
   "execution_count": 6,
   "metadata": {},
   "outputs": [
    {
     "data": {
      "text/plain": [
       "(246091, 7)"
      ]
     },
     "execution_count": 6,
     "metadata": {},
     "output_type": "execute_result"
    }
   ],
   "source": [
    "df.shape"
   ]
  },
  {
   "cell_type": "code",
   "execution_count": 7,
   "metadata": {},
   "outputs": [
    {
     "data": {
      "text/plain": [
       "3730"
      ]
     },
     "execution_count": 7,
     "metadata": {},
     "output_type": "execute_result"
    }
   ],
   "source": [
    "df['Production'].isna().sum()"
   ]
  },
  {
   "cell_type": "code",
   "execution_count": 8,
   "metadata": {},
   "outputs": [],
   "source": [
    "Frames=[]\n",
    "for i in list (set(df['District_Name'])):\n",
    "  df_district=df[df['District_Name']==i]\n",
    "  df_district['Production'].fillna(df_district['Production'].mean(),inplace=True)\n",
    "  Frames.append(df_district)\n",
    "  final_df= pd.concat(Frames)"
   ]
  },
  {
   "cell_type": "code",
   "execution_count": 9,
   "metadata": {},
   "outputs": [
    {
     "data": {
      "text/plain": [
       "State_Name       False\n",
       "District_Name    False\n",
       "Crop_Year        False\n",
       "Season           False\n",
       "Crop             False\n",
       "Area             False\n",
       "Production       False\n",
       "dtype: bool"
      ]
     },
     "execution_count": 9,
     "metadata": {},
     "output_type": "execute_result"
    }
   ],
   "source": [
    "final_df.isna().any()"
   ]
  },
  {
   "cell_type": "code",
   "execution_count": 10,
   "metadata": {},
   "outputs": [
    {
     "data": {
      "text/plain": [
       "False"
      ]
     },
     "execution_count": 10,
     "metadata": {},
     "output_type": "execute_result"
    }
   ],
   "source": [
    "final_df.duplicated(subset=None, keep='first').any()"
   ]
  },
  {
   "cell_type": "code",
   "execution_count": 11,
   "metadata": {},
   "outputs": [],
   "source": [
    "import plotly.io as pio\n",
    "pio.renderers.default = 'iframe'"
   ]
  },
  {
   "cell_type": "code",
   "execution_count": 12,
   "metadata": {},
   "outputs": [
    {
     "data": {
      "application/javascript": [
       "\n",
       "        if (window._pyforest_update_imports_cell) { window._pyforest_update_imports_cell('import plotly.graph_objs as go'); }\n",
       "    "
      ],
      "text/plain": [
       "<IPython.core.display.Javascript object>"
      ]
     },
     "metadata": {},
     "output_type": "display_data"
    },
    {
     "data": {
      "application/javascript": [
       "\n",
       "        if (window._pyforest_update_imports_cell) { window._pyforest_update_imports_cell('import plotly.graph_objs as go'); }\n",
       "    "
      ],
      "text/plain": [
       "<IPython.core.display.Javascript object>"
      ]
     },
     "metadata": {},
     "output_type": "display_data"
    },
    {
     "data": {
      "text/html": [
       "<iframe\n",
       "    scrolling=\"no\"\n",
       "    width=\"100%\"\n",
       "    height=\"545px\"\n",
       "    src=\"iframe_figures/figure_12.html\"\n",
       "    frameborder=\"0\"\n",
       "    allowfullscreen\n",
       "></iframe>\n"
      ]
     },
     "metadata": {},
     "output_type": "display_data"
    }
   ],
   "source": [
    "# Compute the correlation matrix\n",
    "correlation_matrix = final_df.corr()\n",
    "\n",
    "# Create a correlation heatmap\n",
    "fig = go.Figure(data=go.Heatmap(\n",
    "    z=correlation_matrix.values,\n",
    "    x=correlation_matrix.columns,\n",
    "    y=correlation_matrix.columns,\n",
    "    colorscale='Viridis',  # Choose the desired colorscale\n",
    "    colorbar=dict(title='Correlation')  # Customize the colorbar title\n",
    "))\n",
    "\n",
    "# Add text annotations\n",
    "fig.update_layout(\n",
    "    title=\"Correlation Heatmap\",\n",
    "    xaxis_title=\"Variables\",\n",
    "    yaxis_title=\"Variables\"\n",
    ")\n",
    "\n",
    "# Display the correlation heatmap\n",
    "fig.show()\n"
   ]
  },
  {
   "cell_type": "code",
   "execution_count": 13,
   "metadata": {},
   "outputs": [],
   "source": [
    "# Univariate analysis"
   ]
  },
  {
   "cell_type": "code",
   "execution_count": 14,
   "metadata": {},
   "outputs": [],
   "source": [
    "# state name variable"
   ]
  },
  {
   "cell_type": "code",
   "execution_count": 15,
   "metadata": {},
   "outputs": [
    {
     "name": "stdout",
     "output_type": "stream",
     "text": [
      "33\n",
      "['Haryana' 'Tamil Nadu' 'Rajasthan' 'Jharkhand' 'Punjab' 'Uttar Pradesh'\n",
      " 'West Bengal' 'Madhya Pradesh' 'Himachal Pradesh' 'Bihar' 'Maharashtra'\n",
      " 'Gujarat' 'Odisha' 'Assam' 'Karnataka' 'Andhra Pradesh' 'Nagaland'\n",
      " 'Uttarakhand' 'Chhattisgarh' 'Telangana ' 'Jammu and Kashmir ' 'Tripura'\n",
      " 'Arunachal Pradesh' 'Meghalaya' 'Manipur' 'Mizoram' 'Kerala' 'Sikkim'\n",
      " 'Puducherry' 'Goa' 'Dadra and Nagar Haveli' 'Andaman and Nicobar Islands'\n",
      " 'Chandigarh']\n"
     ]
    }
   ],
   "source": [
    "print(final_df['State_Name'].nunique())\n",
    "print(final_df['State_Name'].unique())"
   ]
  },
  {
   "cell_type": "code",
   "execution_count": 16,
   "metadata": {},
   "outputs": [
    {
     "data": {
      "text/plain": [
       "Uttar Pradesh                  33306\n",
       "Madhya Pradesh                 22943\n",
       "Karnataka                      21122\n",
       "Bihar                          18885\n",
       "Assam                          14628\n",
       "Odisha                         13575\n",
       "Tamil Nadu                     13547\n",
       "Maharashtra                    12628\n",
       "Rajasthan                      12514\n",
       "Chhattisgarh                   10709\n",
       "Andhra Pradesh                  9628\n",
       "West Bengal                     9613\n",
       "Gujarat                         8436\n",
       "Haryana                         5875\n",
       "Telangana                       5649\n",
       "Uttarakhand                     4896\n",
       "Kerala                          4261\n",
       "Nagaland                        3906\n",
       "Punjab                          3173\n",
       "Meghalaya                       2867\n",
       "Arunachal Pradesh               2546\n",
       "Himachal Pradesh                2494\n",
       "Jammu and Kashmir               1634\n",
       "Tripura                         1412\n",
       "Manipur                         1267\n",
       "Jharkhand                       1266\n",
       "Mizoram                          957\n",
       "Puducherry                       876\n",
       "Sikkim                           714\n",
       "Dadra and Nagar Haveli           263\n",
       "Goa                              208\n",
       "Andaman and Nicobar Islands      203\n",
       "Chandigarh                        90\n",
       "Name: State_Name, dtype: int64"
      ]
     },
     "execution_count": 16,
     "metadata": {},
     "output_type": "execute_result"
    }
   ],
   "source": [
    "final_df['State_Name'].value_counts()\n"
   ]
  },
  {
   "cell_type": "code",
   "execution_count": 17,
   "metadata": {},
   "outputs": [],
   "source": [
    "# district name variable"
   ]
  },
  {
   "cell_type": "code",
   "execution_count": 18,
   "metadata": {},
   "outputs": [
    {
     "name": "stdout",
     "output_type": "stream",
     "text": [
      "646\n",
      "['FATEHABAD' 'VELLORE' 'HISAR' 'BUNDI' 'RAMGARH' 'FAZILKA' 'MAHOBA'\n",
      " '24 PARAGANAS NORTH' 'BHOPAL' 'SIRMAUR' 'GONDA' 'AURANGABAD' 'JUNAGADH'\n",
      " 'HOSHANGABAD' 'WEST SINGHBHUM' 'CHANDAULI' 'PANNA' 'SAGAR' 'SUNDARGARH'\n",
      " 'SINDHUDURG' 'DIMA HASAO' 'BHIWANI' 'ALIRAJPUR' 'KOLAR' 'RANCHI'\n",
      " 'SPSR NELLORE' 'MANDLA' 'NANDED' 'DAMOH' 'MOKOKCHUNG' 'NAINITAL'\n",
      " 'NUAPADA' 'BEMETARA' 'HYDERABAD' 'SONBHADRA' 'LAKHISARAI' 'MUKTSAR'\n",
      " 'WASHIM' 'KHEDA' 'PULWAMA' 'YAMUNANAGAR' 'TUENSANG' 'MUNGELI'\n",
      " 'NORTH TRIPURA' 'MAU' 'SINGRAULI' 'DIBANG VALLEY' 'MORENA'\n",
      " 'KANNIYAKUMARI' 'GHAZIPUR' 'MIRZAPUR' 'JAISALMER' 'BELGAUM' 'SEPAHIJALA'\n",
      " 'JASHPUR' 'GANJAM' 'MEERUT' 'SANGLI' 'TAPI' 'DIBRUGARH' 'VARANASI'\n",
      " 'NALANDA' 'WEST GODAVARI' 'JAMUI' 'CACHAR' 'BANSWARA' 'GURGAON'\n",
      " 'NIZAMABAD' 'MORADABAD' 'BARAN' 'JALAUN' 'BUXAR' 'BULDHANA' 'KADAPA'\n",
      " 'SOUTH WEST GARO HILLS' 'KISHANGANJ' 'ASHOKNAGAR' 'PASHCHIM CHAMPARAN'\n",
      " 'THIRUVARUR' 'JIND' 'HOWRAH' 'RAIGAD' 'BENGALURU URBAN' 'AHMEDNAGAR'\n",
      " 'VIRUDHUNAGAR' 'JAMTARA' 'SOLAN' 'NEEMUCH' 'MUMBAI' 'IMPHAL EAST' 'THANE'\n",
      " 'LAWNGTLAI' 'DHARMAPURI' 'UKHRUL' 'BANGALORE RURAL' 'CHANDEL' 'KALAHANDI'\n",
      " 'SALEM' 'SONEPUR' 'MALAPPURAM' 'AMRAVATI' 'DIMAPUR' 'KARNAL' 'REWA'\n",
      " 'FATEHGARH SAHIB' 'DEORIA' 'UNA' 'THOUBAL' 'TONK' 'THENI' 'PALGHAR'\n",
      " 'KHOWAI' 'UDALGURI' 'PITHORAGARH' 'KANPUR DEHAT' 'KHAGARIA' 'KOZHIKODE'\n",
      " 'JORHAT' 'KOREA' 'LATEHAR' 'ALMORA' 'KOKRAJHAR' 'SHIVPURI' 'CUTTACK'\n",
      " 'UPPER SIANG' 'DEOGARH' 'BIRBHUM' 'TIRUPPUR' 'SURAT' 'DHARWAD' 'RAJAURI'\n",
      " 'DARBHANGA' 'NAGAON' 'MEDINIPUR WEST' 'BARAMULLA' 'DURG' 'SOLAPUR'\n",
      " 'JAJAPUR' 'RATLAM' 'BARNALA' 'IDUKKI' 'KHAMMAM' 'DINAJPUR DAKSHIN'\n",
      " 'SRIKAKULAM' 'NARMADA' 'UDAIPUR' 'KARIMGANJ' 'AIZAWL' 'KISHTWAR' 'SEHORE'\n",
      " 'BANDA' 'MANDYA' 'KURUKSHETRA' 'KOTA' 'BELLARY' 'ANJAW' 'PUDUKKOTTAI'\n",
      " 'KATIHAR' 'FARRUKHABAD' 'SIDHI' 'AMETHI' 'WEST JAINTIA HILLS'\n",
      " 'UTTAR KANNAD' 'MUNGER' 'KOHIMA' 'DANG' 'KOPPAL' 'KULLU' 'PRAKASAM'\n",
      " 'KAMRUP' 'BHARATPUR' 'SUPAUL' 'WEST KAMENG' 'CHHINDWARA' 'WEST TRIPURA'\n",
      " 'JHANSI' 'EAST JAINTIA HILLS' 'COOCHBEHAR' 'AMROHA' 'JAIPUR' 'PATNA'\n",
      " 'UDUPI' 'HATHRAS' 'SHAMLI' 'PALAKKAD' 'VIDISHA' 'SUKMA' 'JALGAON'\n",
      " 'RAE BARELI' 'DUNGARPUR' 'BAHRAICH' 'NARAYANPUR' 'BHAVNAGAR' 'BAGALKOT'\n",
      " 'DOHAD' 'CHURU' 'BALAGHAT' 'RI BHOI' 'GANDHINAGAR' 'GADCHIROLI' 'WARDHA'\n",
      " 'CHAMOLI' 'SURENDRANAGAR' 'HAMIRPUR' 'HINGOLI' 'ALWAR' 'SRINAGAR'\n",
      " 'SIROHI' 'BEGUSARAI' 'VALSAD' 'KOLLAM' 'BALODA BAZAR' 'EAST DISTRICT'\n",
      " 'NAWANSHAHR' 'PEREN' 'THRISSUR' 'ERODE' 'FAIZABAD' 'MOGA' 'DARRANG'\n",
      " 'TIRUNELVELI' 'PHEK' 'NABARANGPUR' 'PALAMU' 'HAPUR' 'BHARUCH' 'JHAJJAR'\n",
      " 'BANAS KANTHA' 'RAMBAN' 'JHUNJHUNU' 'PORBANDAR' 'ANUGUL' 'KOLHAPUR'\n",
      " 'JAMMU' 'CHANGLANG' 'MEDAK' 'MAHE' 'KANPUR NAGAR' 'BHIND' 'GORAKHPUR'\n",
      " 'JABALPUR' 'HAILAKANDI' 'SANGRUR' 'HARDA' 'GANDERBAL' 'NAWADA' 'DEWAS'\n",
      " 'NADIA' 'KHANDWA' 'PERAMBALUR' 'KOLASIB' 'RAICHUR' 'GARIYABAND' 'AURAIYA'\n",
      " 'PRATAPGARH' 'PATHANKOT' 'SOUTH GARO HILLS' 'EAST GARO HILLS' 'DHANBAD'\n",
      " 'AZAMGARH' 'DODA' 'JHABUA' 'SOUTH WEST KHASI HILLS' 'KIPHIRE'\n",
      " 'MAHARAJGANJ' 'PURULIA' 'SAMASTIPUR' 'SARAIKELA KHARSAWAN' 'BAGESHWAR'\n",
      " 'MADURAI' 'GIRIDIH' 'JALPAIGURI' 'EAST SIANG' 'BEED' 'KARGIL' 'REASI'\n",
      " 'GUMLA' 'KARAULI' 'SAWAI MADHOPUR' 'SIKAR' 'KHORDHA' 'KRISHNA'\n",
      " 'ANANTAPUR' 'NAGAPATTINAM' 'TIKAMGARH' 'SEONI' 'ANAND' 'PILIBHIT'\n",
      " 'SHEOHAR' 'PANCHKULA' 'GOALPARA' 'SIVASAGAR' 'KARAIKAL' 'FARIDKOT'\n",
      " 'UDHAMPUR' 'KAUSHAMBI' 'SAHARANPUR' 'CHITTORGARH' 'DAKSHIN KANNAD'\n",
      " 'ADILABAD' 'SIDDHARTH NAGAR' 'CHATRA' 'CHURACHANDPUR' 'PUNE'\n",
      " 'KUSHI NAGAR' 'FATEHPUR' 'GHAZIABAD' 'LAHUL AND SPITI' 'KURNOOL' 'SAIHA'\n",
      " 'RAMANAGARA' 'DAUSA' 'SULTANPUR' 'LUNGLEI' 'PALWAL' 'GODDA' 'WOKHA'\n",
      " 'ETAWAH' 'LOHIT' 'BAGHPAT' 'SOUTH TRIPURA' 'EAST KHASI HILLS' 'SAHARSA'\n",
      " 'ALAPPUZHA' 'FIROZEPUR' 'KASARAGOD' 'BARDHAMAN' 'PATAN' 'AJMER' 'BHOJPUR'\n",
      " 'CHAMBA' 'DARJEELING' 'SHOPIAN' 'MURSHIDABAD' 'PALI' 'LALITPUR'\n",
      " 'KENDRAPARA' 'NARSINGHPUR' 'RUDRA PRAYAG' 'BANDIPORA' 'THE NILGIRIS'\n",
      " 'SOUTH GOA' 'MANDSAUR' 'DHAMTARI' 'HARDOI' 'NALBARI' 'MADHEPURA'\n",
      " 'WEST DISTRICT' 'SITAPUR' 'JAGATSINGHAPUR' 'BARGARH' 'TUTICORIN'\n",
      " 'SHAJAPUR' 'KANNUR' 'DEOGHAR' 'RAMPUR' 'KORAPUT' 'BONGAIGAON' 'KHUNTI'\n",
      " 'DHAR' 'CUDDALORE' 'JANJGIR-CHAMPA' 'GULBARGA' 'KORBA' 'RAJNANDGAON'\n",
      " 'TINSUKIA' 'BIDAR' 'CHIKMAGALUR' 'UNNAO' 'SIMDEGA' 'RUPNAGAR'\n",
      " 'DADRA AND NAGAR HAVELI' 'MAHASAMUND' 'SABAR KANTHA' 'RATNAGIRI'\n",
      " 'PAPUM PARE' 'SATARA' 'AMRITSAR' 'PURNIA' 'JEHANABAD' 'DHOLPUR'\n",
      " 'HANUMANGARH' 'SANT RAVIDAS NAGAR' 'UNAKOTI' 'PANIPAT' 'SHAHDOL'\n",
      " 'THIRUVANANTHAPURAM' 'PURI' 'KUPWARA' 'KAMRUP METRO' 'PAKUR' 'DAVANGERE'\n",
      " 'KOTTAYAM' 'KHARGONE' 'MON' 'TIRUVANNAMALAI' 'GUNA' 'KACHCHH' 'BURHANPUR'\n",
      " 'ARARIA' 'GOMATI' 'DEHRADUN' 'KANNAUJ' 'MEWAT' 'ETAH' 'BIJAPUR'\n",
      " 'BALESHWAR' 'MATHURA' 'RAIGARH' 'SERCHHIP' 'DANTEWADA' 'VAISHALI' 'KARUR'\n",
      " 'HARIDWAR' 'NORTH GOA' 'BULANDSHAHR' 'CHIKBALLAPUR' 'RAJSAMAND' 'NAMSAI'\n",
      " 'BALOD' 'TIRUCHIRAPPALLI' 'EAST GODAVARI' 'BHANDARA' 'VISAKHAPATANAM'\n",
      " 'NORTH AND MIDDLE ANDAMAN' 'KURUNG KUMEY' 'KATNI' 'MARIGAON' 'DHULE'\n",
      " 'LATUR' 'VIZIANAGARAM' 'PATHANAMTHITTA' 'DATIA' 'YAVATMAL' 'COIMBATORE'\n",
      " 'CHANDIGARH' 'JALNA' 'BAREILLY' 'SOUTH ANDAMANS' 'ZUNHEBOTO' 'MALKANGIRI'\n",
      " 'UTTAR KASHI' 'WEST SIANG' 'RANGAREDDI' 'SENAPATI' 'BETUL' 'NAYAGARH'\n",
      " 'NORTH DISTRICT' 'NAGAUR' 'NANDURBAR' 'JHARSUGUDA' 'AHMADABAD'\n",
      " 'MAHBUBNAGAR' 'BATHINDA' 'KARIMNAGAR' 'KAITHAL' 'KHERI' 'NAVSARI'\n",
      " 'SITAMARHI' 'ROHTAK' 'BADGAM' 'KAIMUR (BHABUA)' 'DUMKA' 'SHIMOGA' 'BAKSA'\n",
      " 'THANJAVUR' 'SARAN' 'KATHUA' 'JAMNAGAR' 'UPPER SUBANSIRI' 'KASGANJ'\n",
      " 'GOLAGHAT' 'BILASPUR' 'MAMIT' 'AGRA' 'JALORE' 'SAHEBGANJ' 'MANDI'\n",
      " 'SURAJPUR' 'EAST KAMENG' 'AKOLA' 'NAGPUR' 'ANUPPUR' 'LOWER SUBANSIRI'\n",
      " 'BARPETA' 'TAMENGLONG' 'RAJGARH' 'KANDHAMAL' 'GURDASPUR' 'AMRELI'\n",
      " 'KONDAGAON' 'TEHRI GARHWAL' 'OSMANABAD' 'PATIALA' 'SHEOPUR' 'KANCHIPURAM'\n",
      " 'BISHNUPUR' 'TIRAP' 'LAKHIMPUR' 'PAURI GARHWAL' 'CHAMPHAI' 'BIKANER'\n",
      " 'REWARI' 'ERNAKULAM' 'BANKA' 'JHALAWAR' 'SIRSA' 'CHITRAKOOT'\n",
      " 'CHITRADURGA' 'NORTH GARO HILLS' 'AMBALA' 'GAJAPATI' 'CHAMPAWAT'\n",
      " 'KAPURTHALA' 'MEDINIPUR EAST' 'RAYAGADA' 'UJJAIN' 'LOHARDAGA' 'RAJKOT'\n",
      " 'DHALAI' 'YANAM' 'LUCKNOW' 'HAVERI' 'WAYANAD' 'GOPALGANJ' 'HAZARIBAGH'\n",
      " 'MANSA' 'BHILWARA' 'BALLIA' 'WEST KHASI HILLS' 'MAHESANA' 'JAUNPUR'\n",
      " 'POONCH' 'LEH LADAKH' 'CHAMARAJANAGAR' 'SIVAGANGA' 'DHUBRI' 'S.A.S NAGAR'\n",
      " 'MAINPURI' 'RAIPUR' 'KODERMA' 'BIJNOR' 'SIWAN' 'GAUTAM BUDDHA NAGAR'\n",
      " 'RAISEN' 'KARBI ANGLONG' 'LUDHIANA' 'HASSAN' 'CHHATARPUR' 'KENDUJHAR'\n",
      " 'KABIRDHAM' 'RAMANATHAPURAM' 'BUDAUN' 'MYSORE' 'NICOBARS' 'THIRUVALLUR'\n",
      " 'TUMKUR' 'TAWANG' 'BOKARO' 'GANGANAGAR' 'DINAJPUR UTTAR' 'SAMBHAL'\n",
      " 'DHENKANAL' 'SONITPUR' 'SOUTH DISTRICT' 'SHAHJAHANPUR' 'SURGUJA'\n",
      " 'SANT KABEER NAGAR' 'BALRAMPUR' 'JALANDHAR' 'BHAGALPUR' 'HOOGHLY'\n",
      " '24 PARAGANAS SOUTH' 'LONGLENG' 'GARHWA' 'KANKER' 'BARABANKI' 'BOUDH'\n",
      " 'EAST SINGHBUM' 'PANCH MAHALS' 'YADGIR' 'LONGDING' 'HOSHIARPUR'\n",
      " 'MADHUBANI' 'PURBI CHAMPARAN' 'AMBEDKAR NAGAR' 'MAHENDRAGARH'\n",
      " 'MUZAFFARNAGAR' 'MUZAFFARPUR' 'LOWER DIBANG VALLEY' 'VILLUPURAM'\n",
      " 'JODHPUR' 'ANANTNAG' 'CHIRANG' 'SATNA' 'GUNTUR' 'SAMBALPUR' 'SHRAVASTI'\n",
      " 'NASHIK' 'SONIPAT' 'PARBHANI' 'WARANGAL' 'DHEMAJI' 'GWALIOR' 'GADAG'\n",
      " 'KODAGU' 'GONDIA' 'KINNAUR' 'ALLAHABAD' 'UDAM SINGH NAGAR' 'NAMAKKAL'\n",
      " 'BARMER' 'KULGAM' 'DINDIGUL' 'VADODARA' 'INDORE' 'FARIDABAD' 'NALGONDA'\n",
      " 'DINDORI' 'PONDICHERRY' 'FIROZABAD' 'MALDAH' 'BHADRAK' 'ARIYALUR'\n",
      " 'KRISHNAGIRI' 'BARWANI' 'GAYA' 'KANGRA' 'ALIGARH' 'BASTAR'\n",
      " 'WEST GARO HILLS' 'MAYURBHANJ' 'ROHTAS' 'ARWAL' 'SHEIKHPURA' 'CHITTOOR'\n",
      " 'BASTI' 'AGAR MALWA' 'BALANGIR' 'BANKURA' 'SHIMLA' 'UMARIA' 'IMPHAL WEST'\n",
      " 'SAMBA' 'TARN TARAN' 'CHANDRAPUR']\n"
     ]
    }
   ],
   "source": [
    "print(final_df['District_Name'].nunique())\n",
    "print(final_df['District_Name'].unique())"
   ]
  },
  {
   "cell_type": "code",
   "execution_count": 19,
   "metadata": {},
   "outputs": [
    {
     "data": {
      "text/plain": [
       "BIJAPUR      945\n",
       "TUMKUR       936\n",
       "BELGAUM      925\n",
       "HASSAN       895\n",
       "BELLARY      887\n",
       "            ... \n",
       "HYDERABAD      8\n",
       "KHUNTI         6\n",
       "RAMGARH        6\n",
       "NAMSAI         1\n",
       "MUMBAI         1\n",
       "Name: District_Name, Length: 646, dtype: int64"
      ]
     },
     "execution_count": 19,
     "metadata": {},
     "output_type": "execute_result"
    }
   ],
   "source": [
    "final_df['District_Name'].value_counts()\n"
   ]
  },
  {
   "cell_type": "code",
   "execution_count": 20,
   "metadata": {},
   "outputs": [],
   "source": [
    "# crop year varibale"
   ]
  },
  {
   "cell_type": "code",
   "execution_count": 21,
   "metadata": {},
   "outputs": [
    {
     "name": "stdout",
     "output_type": "stream",
     "text": [
      "19\n",
      "2015\n",
      "1997\n"
     ]
    }
   ],
   "source": [
    "print(final_df['Crop_Year'].nunique())\n",
    "print(final_df['Crop_Year'].max())\n",
    "print(final_df['Crop_Year'].min())"
   ]
  },
  {
   "cell_type": "code",
   "execution_count": 22,
   "metadata": {},
   "outputs": [
    {
     "data": {
      "text/plain": [
       "2003    17287\n",
       "2002    16671\n",
       "2008    14550\n",
       "2007    14526\n",
       "2006    14328\n",
       "2004    14117\n",
       "2009    14116\n",
       "2011    14071\n",
       "2010    14065\n",
       "2005    13799\n",
       "2000    13658\n",
       "2013    13650\n",
       "2012    13410\n",
       "2001    13361\n",
       "1999    12515\n",
       "1998    11533\n",
       "2014    10973\n",
       "1997     8899\n",
       "2015      562\n",
       "Name: Crop_Year, dtype: int64"
      ]
     },
     "execution_count": 22,
     "metadata": {},
     "output_type": "execute_result"
    }
   ],
   "source": [
    "final_df.Crop_Year.value_counts()\n"
   ]
  },
  {
   "cell_type": "code",
   "execution_count": 23,
   "metadata": {},
   "outputs": [],
   "source": [
    "# season variable"
   ]
  },
  {
   "cell_type": "code",
   "execution_count": 24,
   "metadata": {},
   "outputs": [
    {
     "data": {
      "text/plain": [
       "6"
      ]
     },
     "execution_count": 24,
     "metadata": {},
     "output_type": "execute_result"
    }
   ],
   "source": [
    "final_df['Season'].nunique()\n"
   ]
  },
  {
   "cell_type": "code",
   "execution_count": 25,
   "metadata": {},
   "outputs": [
    {
     "data": {
      "text/plain": [
       "'Winter     '"
      ]
     },
     "execution_count": 25,
     "metadata": {},
     "output_type": "execute_result"
    }
   ],
   "source": [
    "final_df['Season'].max()"
   ]
  },
  {
   "cell_type": "code",
   "execution_count": 26,
   "metadata": {},
   "outputs": [
    {
     "data": {
      "text/plain": [
       "Kharif         95951\n",
       "Rabi           66987\n",
       "Whole Year     57305\n",
       "Summer         14841\n",
       "Winter          6058\n",
       "Autumn          4949\n",
       "Name: Season, dtype: int64"
      ]
     },
     "execution_count": 26,
     "metadata": {},
     "output_type": "execute_result"
    }
   ],
   "source": [
    "final_df['Season'].value_counts()"
   ]
  },
  {
   "cell_type": "code",
   "execution_count": 27,
   "metadata": {},
   "outputs": [],
   "source": [
    "# crop variable"
   ]
  },
  {
   "cell_type": "code",
   "execution_count": 28,
   "metadata": {},
   "outputs": [
    {
     "name": "stdout",
     "output_type": "stream",
     "text": [
      "124\n",
      "Rice                 15104\n",
      "Maize                13947\n",
      "Moong(Green Gram)    10318\n",
      "Urad                  9850\n",
      "Sesamum               9046\n",
      "Groundnut             8834\n",
      "Sugarcane             7921\n",
      "Wheat                 7899\n",
      "Rapeseed &Mustard     7592\n",
      "Arhar/Tur             7578\n",
      "Name: Crop, dtype: int64\n"
     ]
    }
   ],
   "source": [
    "print(final_df['Crop'].nunique())\n",
    "print(final_df.Crop.value_counts().head(10))"
   ]
  },
  {
   "cell_type": "code",
   "execution_count": 29,
   "metadata": {},
   "outputs": [
    {
     "data": {
      "text/plain": [
       "'other oilseeds'"
      ]
     },
     "execution_count": 29,
     "metadata": {},
     "output_type": "execute_result"
    }
   ],
   "source": [
    "final_df['Crop'].max()\n"
   ]
  },
  {
   "cell_type": "code",
   "execution_count": 30,
   "metadata": {},
   "outputs": [
    {
     "data": {
      "text/plain": [
       "array(['Bajra', 'Other Kharif pulses', 'Rice', 'Barley', 'Gram', 'Wheat',\n",
       "       'Cotton(lint)', 'Sugarcane', 'Arhar/Tur', 'Groundnut', 'Maize',\n",
       "       'Moong(Green Gram)', 'Moth', 'Sesamum', 'Masoor',\n",
       "       'Rapeseed &Mustard', 'Sunflower', 'Dry chillies', 'Potato', 'Urad',\n",
       "       'Peas & beans (Pulses)', 'Onion', 'Sannhamp', 'Grapes',\n",
       "       'Other Fresh Fruits', 'Other Vegetables', 'Castor seed', 'Garlic',\n",
       "       'Guar seed', 'Banana', 'Horse-gram', 'Small millets', 'Cashewnut',\n",
       "       'Coriander', 'Jowar', 'Pulses total', 'Ragi', 'Sweet potato',\n",
       "       'Tapioca', 'Total foodgrain', 'Turmeric', 'Korra', 'Varagu',\n",
       "       'Samai', 'Other Cereals & Millets', 'Ash Gourd',\n",
       "       'Beans & Mutter(Vegetable)', 'Bhindi', 'Bitter Gourd', 'Brinjal',\n",
       "       'Cabbage', 'Citrus Fruit', 'Coconut ', 'Drum Stick', 'Jack Fruit',\n",
       "       'Lab-Lab', 'Litchi', 'Mango', 'Orange', 'Other Citrus Fruit',\n",
       "       'Papaya', 'Pineapple', 'Pome Fruit', 'Pome Granet', 'Pump Kin',\n",
       "       'Redish', 'Ribed Guard', 'Snak Guard', 'Tobacco', 'Tomato',\n",
       "       'Water Melon', 'Yam', 'Cucumber', 'Niger seed', 'Soyabean',\n",
       "       'Arecanut', 'Black pepper', 'Cardamom', 'Dry ginger', 'Jute',\n",
       "       'Other  Rabi pulses', 'Linseed', 'other oilseeds', 'Mesta',\n",
       "       'Khesari', 'Oilseeds total', 'Safflower', 'Paddy', 'Cauliflower',\n",
       "       'other misc. pulses', 'Cowpea(Lobia)', 'Ginger', 'Blackgram',\n",
       "       'Arcanut (Processed)', 'Atcanut (Raw)', 'Cashewnut Processed',\n",
       "       'Cashewnut Raw', 'Bottle Gourd', 'Peas  (vegetable)', 'Lemon',\n",
       "       'Sapota', 'Tea', 'Bean', 'Colocosia', 'Jobster', 'Perilla',\n",
       "       'Rajmash Kholar', 'Ricebean (nagadal)', 'Lentil',\n",
       "       'Cond-spcs other', 'Jute & mesta', 'other fibres', 'Ber', 'Carrot',\n",
       "       'Rubber', 'Beet Root', 'Pear', 'Plums', 'Coffee', 'Kapas',\n",
       "       'Turnip', 'Apple', 'Peach', 'Other Dry Fruit'], dtype=object)"
      ]
     },
     "execution_count": 30,
     "metadata": {},
     "output_type": "execute_result"
    }
   ],
   "source": [
    "final_df['Crop'].unique()\n"
   ]
  },
  {
   "cell_type": "code",
   "execution_count": 31,
   "metadata": {},
   "outputs": [
    {
     "data": {
      "text/plain": [
       "count    2.460910e+05\n",
       "mean     6.069226e+05\n",
       "std      1.696894e+07\n",
       "min      0.000000e+00\n",
       "25%      9.100000e+01\n",
       "50%      7.880000e+02\n",
       "75%      7.870000e+03\n",
       "max      1.250800e+09\n",
       "Name: Production, dtype: float64"
      ]
     },
     "execution_count": 31,
     "metadata": {},
     "output_type": "execute_result"
    }
   ],
   "source": [
    "final_df.Production.describe()\n"
   ]
  },
  {
   "cell_type": "code",
   "execution_count": 32,
   "metadata": {},
   "outputs": [
    {
     "data": {
      "application/javascript": [
       "\n",
       "        if (window._pyforest_update_imports_cell) { window._pyforest_update_imports_cell('import plotly.graph_objs as go'); }\n",
       "    "
      ],
      "text/plain": [
       "<IPython.core.display.Javascript object>"
      ]
     },
     "metadata": {},
     "output_type": "display_data"
    },
    {
     "data": {
      "application/javascript": [
       "\n",
       "        if (window._pyforest_update_imports_cell) { window._pyforest_update_imports_cell('import plotly.graph_objs as go'); }\n",
       "    "
      ],
      "text/plain": [
       "<IPython.core.display.Javascript object>"
      ]
     },
     "metadata": {},
     "output_type": "display_data"
    },
    {
     "data": {
      "text/html": [
       "<iframe\n",
       "    scrolling=\"no\"\n",
       "    width=\"100%\"\n",
       "    height=\"545px\"\n",
       "    src=\"iframe_figures/figure_32.html\"\n",
       "    frameborder=\"0\"\n",
       "    allowfullscreen\n",
       "></iframe>\n"
      ]
     },
     "metadata": {},
     "output_type": "display_data"
    }
   ],
   "source": [
    "\n",
    "# Create a boxplot using Plotly\n",
    "fig = go.Figure()\n",
    "fig.add_trace(go.Box(y=final_df['Area'], name='Area'))\n",
    "\n",
    "# Customize the boxplot\n",
    "fig.update_layout(\n",
    "    title=\"Boxplot of Area\",\n",
    "    yaxis_title=\"Area\"\n",
    ")\n",
    "\n",
    "# Display the boxplot\n",
    "fig.show()\n"
   ]
  },
  {
   "cell_type": "code",
   "execution_count": 33,
   "metadata": {},
   "outputs": [
    {
     "data": {
      "application/javascript": [
       "\n",
       "        if (window._pyforest_update_imports_cell) { window._pyforest_update_imports_cell('import plotly.graph_objs as go'); }\n",
       "    "
      ],
      "text/plain": [
       "<IPython.core.display.Javascript object>"
      ]
     },
     "metadata": {},
     "output_type": "display_data"
    },
    {
     "data": {
      "application/javascript": [
       "\n",
       "        if (window._pyforest_update_imports_cell) { window._pyforest_update_imports_cell('import plotly.graph_objs as go'); }\n",
       "    "
      ],
      "text/plain": [
       "<IPython.core.display.Javascript object>"
      ]
     },
     "metadata": {},
     "output_type": "display_data"
    },
    {
     "data": {
      "text/html": [
       "<iframe\n",
       "    scrolling=\"no\"\n",
       "    width=\"100%\"\n",
       "    height=\"545px\"\n",
       "    src=\"iframe_figures/figure_33.html\"\n",
       "    frameborder=\"0\"\n",
       "    allowfullscreen\n",
       "></iframe>\n"
      ]
     },
     "metadata": {},
     "output_type": "display_data"
    }
   ],
   "source": [
    "\n",
    "# Create a boxplot using Plotly\n",
    "fig = go.Figure()\n",
    "fig.add_trace(go.Box(y=final_df['Production'], name='Production'))\n",
    "\n",
    "# Customize the boxplot\n",
    "fig.update_layout(\n",
    "    title=\"Boxplot of Production\",\n",
    "    yaxis_title=\"Production\"\n",
    ")\n",
    "\n",
    "# Display the boxplot\n",
    "fig.show()\n"
   ]
  },
  {
   "cell_type": "code",
   "execution_count": 34,
   "metadata": {},
   "outputs": [
    {
     "data": {
      "application/javascript": [
       "\n",
       "        if (window._pyforest_update_imports_cell) { window._pyforest_update_imports_cell('import plotly.graph_objs as go'); }\n",
       "    "
      ],
      "text/plain": [
       "<IPython.core.display.Javascript object>"
      ]
     },
     "metadata": {},
     "output_type": "display_data"
    },
    {
     "data": {
      "application/javascript": [
       "\n",
       "        if (window._pyforest_update_imports_cell) { window._pyforest_update_imports_cell('import plotly.graph_objs as go'); }\n",
       "    "
      ],
      "text/plain": [
       "<IPython.core.display.Javascript object>"
      ]
     },
     "metadata": {},
     "output_type": "display_data"
    },
    {
     "data": {
      "text/html": [
       "<iframe\n",
       "    scrolling=\"no\"\n",
       "    width=\"100%\"\n",
       "    height=\"545px\"\n",
       "    src=\"iframe_figures/figure_34.html\"\n",
       "    frameborder=\"0\"\n",
       "    allowfullscreen\n",
       "></iframe>\n"
      ]
     },
     "metadata": {},
     "output_type": "display_data"
    }
   ],
   "source": [
    "\n",
    "# Create a horizontal bar plot using Plotly\n",
    "fig = go.Figure(data=go.Bar(\n",
    "    x=df['Production'],\n",
    "    y=df['State_Name'],\n",
    "    orientation='h'\n",
    "))\n",
    "\n",
    "# Customize the bar plot\n",
    "fig.update_layout(\n",
    "    title=\"Bar Plot of Production by State\",\n",
    "    xaxis_title=\"Production\",\n",
    "    yaxis_title=\"State Name\",\n",
    "    yaxis=dict(autorange=\"reversed\")  # Reverse the order of y-axis labels\n",
    ")\n",
    "\n",
    "# Display the bar plot\n",
    "fig.show()\n"
   ]
  },
  {
   "cell_type": "markdown",
   "metadata": {},
   "source": [
    "Note: Kerala has yielded the highest production"
   ]
  },
  {
   "cell_type": "code",
   "execution_count": 35,
   "metadata": {},
   "outputs": [],
   "source": [
    "# new variables"
   ]
  },
  {
   "cell_type": "code",
   "execution_count": 38,
   "metadata": {},
   "outputs": [
    {
     "data": {
      "text/html": [
       "<iframe\n",
       "    scrolling=\"no\"\n",
       "    width=\"100%\"\n",
       "    height=\"545px\"\n",
       "    src=\"iframe_figures/figure_38.html\"\n",
       "    frameborder=\"0\"\n",
       "    allowfullscreen\n",
       "></iframe>\n"
      ]
     },
     "metadata": {},
     "output_type": "display_data"
    }
   ],
   "source": [
    "import plotly.graph_objects as go\n",
    "\n",
    "# Define the zone categories and their respective states\n",
    "zone_states = {\n",
    "    'North India': ['Jammu and Kashmir', 'Punjab', 'Himachal Pradesh', 'Haryana', 'Uttarakhand', 'Uttar Pradesh', 'Chandigarh'],\n",
    "    'East India': ['Bihar', 'Odisha', 'Jharkhand', 'West Bengal'],\n",
    "    'South India': ['Andhra Pradesh', 'Karnataka', 'Kerala', 'Tamil Nadu', 'Telangana'],\n",
    "    'West India': ['Rajasthan', 'Gujarat', 'Goa', 'Maharashtra'],\n",
    "    'Central India': ['Madhya Pradesh', 'Chhattisgarh'],\n",
    "    'North East India': ['Assam', 'Sikkim', 'Nagaland', 'Meghalaya', 'Manipur', 'Mizoram', 'Tripura', 'Arunachal Pradesh'],\n",
    "    'Union Territories': ['Andaman and Nicobar Islands', 'Dadra and Nagar Haveli', 'Puducherry']\n",
    "}\n",
    "\n",
    "# Create a new DataFrame for zone-wise production\n",
    "zone_production = pd.DataFrame(columns=['Zone', 'Production'])\n",
    "\n",
    "# Calculate production for each zone\n",
    "for zone, states in zone_states.items():\n",
    "    zone_production = zone_production.append({\n",
    "        'Zone': zone,\n",
    "        'Production': df[df['State_Name'].isin(states)]['Production'].sum()\n",
    "    }, ignore_index=True)\n",
    "\n",
    "# Create a bar chart for zone-wise production\n",
    "fig = go.Figure(data=go.Bar(\n",
    "    x=zone_production['Zone'],\n",
    "    y=zone_production['Production'],\n",
    "    marker_color='blue'\n",
    "))\n",
    "\n",
    "# Customize the bar chart\n",
    "fig.update_layout(\n",
    "    title=\"Zone-Wise Production - 1997-2014\",\n",
    "    xaxis_title=\"Zone\",\n",
    "    yaxis_title=\"Production\"\n",
    ")\n",
    "\n",
    "# Display the bar chart\n",
    "fig.show()\n"
   ]
  },
  {
   "cell_type": "code",
   "execution_count": 40,
   "metadata": {},
   "outputs": [],
   "source": [
    "#Zone-Wise Production - 1997-2014\n",
    "north_india = ['Jammu and Kashmir', 'Punjab', 'Himachal Pradesh', 'Haryana', 'Uttarakhand', 'Uttar Pradesh', 'Chandigarh']\n",
    "east_india = ['Bihar', 'Odisha', 'Jharkhand', 'West Bengal']\n",
    "south_india = ['Andhra Pradesh', 'Karnataka', 'Kerala' ,'Tamil Nadu', 'Telangana']\n",
    "west_india = ['Rajasthan' , 'Gujarat', 'Goa','Maharashtra']\n",
    "central_india = ['Madhya Pradesh', 'Chhattisgarh']\n",
    "north_east_india = ['Assam', 'Sikkim', 'Nagaland', 'Meghalaya', 'Manipur', 'Mizoram', 'Tripura', 'Arunachal Pradesh']\n",
    "ut_india = ['Andaman and Nicobar Islands', 'Dadra and Nagar Haveli', 'Puducherry']"
   ]
  },
  {
   "cell_type": "code",
   "execution_count": 41,
   "metadata": {},
   "outputs": [
    {
     "data": {
      "text/plain": [
       "array(['North Zone', 'South Zone', 'West Zone', 'East Zone',\n",
       "       'Central Zone', 'NE Zone', 'Union Terr'], dtype=object)"
      ]
     },
     "execution_count": 41,
     "metadata": {},
     "output_type": "execute_result"
    }
   ],
   "source": [
    "def get_zonal_names(row):\n",
    "    if row['State_Name'].strip() in north_india:\n",
    "        val = 'North Zone'\n",
    "    elif row['State_Name'].strip()  in south_india:\n",
    "        val = 'South Zone'\n",
    "    elif row['State_Name'].strip()  in east_india:\n",
    "        val = 'East Zone'\n",
    "    elif row['State_Name'].strip()  in west_india:\n",
    "        val = 'West Zone'\n",
    "    elif row['State_Name'].strip()  in central_india:\n",
    "        val = 'Central Zone'\n",
    "    elif row['State_Name'].strip()  in north_east_india:\n",
    "        val = 'NE Zone'\n",
    "    elif row['State_Name'].strip()  in ut_india:\n",
    "        val = 'Union Terr'\n",
    "    else:\n",
    "        val = 'No Value'\n",
    "    return val\n",
    "\n",
    "final_df['Zones'] = final_df.apply(get_zonal_names, axis=1)\n",
    "final_df['Zones'].unique()"
   ]
  },
  {
   "cell_type": "code",
   "execution_count": 42,
   "metadata": {},
   "outputs": [
    {
     "data": {
      "text/plain": [
       "South Zone      54207\n",
       "North Zone      51468\n",
       "East Zone       43339\n",
       "West Zone       33786\n",
       "Central Zone    33652\n",
       "NE Zone         28297\n",
       "Union Terr       1342\n",
       "Name: Zones, dtype: int64"
      ]
     },
     "execution_count": 42,
     "metadata": {},
     "output_type": "execute_result"
    }
   ],
   "source": [
    "final_df['Zones'].value_counts()\n"
   ]
  },
  {
   "cell_type": "code",
   "execution_count": null,
   "metadata": {},
   "outputs": [],
   "source": []
  },
  {
   "cell_type": "code",
   "execution_count": 45,
   "metadata": {},
   "outputs": [],
   "source": [
    "def cat_crop(crop):\n",
    "    cereal_crops = ['Rice', 'Maize', 'Wheat', 'Barley', 'Varagu', 'Other Cereals & Millets', 'Ragi', 'Small millets', 'Bajra', 'Jowar', 'Paddy', 'Total foodgrain', 'Jobster']\n",
    "    pulses_crops = ['Moong', 'Urad', 'Arhar/Tur', 'Peas & beans', 'Masoor', 'Other Kharif pulses', 'other misc. pulses', 'Ricebean (nagadal)', 'Rajmash Kholar', 'Lentil', 'Samai', 'Blackgram', 'Korra', 'Cowpea(Lobia)', 'Other Rabi pulses', 'Other Kharif pulses', 'Peas & beans (Pulses)', 'Pulses total', 'Gram']\n",
    "    fruits_crops = ['Peach', 'Apple', 'Litchi', 'Pear', 'Plums', 'Ber', 'Sapota', 'Lemon', 'Pome Granet', 'Other Citrus Fruit', 'Water Melon', 'Jack Fruit', 'Grapes', 'Pineapple', 'Orange', 'Pome Fruit', 'Citrus Fruit', 'Other Fresh Fruits', 'Mango', 'Papaya', 'Coconut', 'Banana']\n",
    "    beans_crops = ['Bean', 'Lab-Lab', 'Moth', 'Guar seed', 'Soyabean', 'Horse-gram']\n",
    "    vegetables_crops = ['Turnip', 'Peas', 'Beet Root', 'Carrot', 'Yam', 'Ribed Guard', 'Ash Gourd', 'Pump Kin', 'Redish', 'Snak Guard', 'Bottle Gourd', 'Bitter Gourd', 'Cucumber', 'Drum Stick', 'Cauliflower', 'Beans & Mutter(Vegetable)', 'Cabbage', 'Bhindi', 'Tomato', 'Brinjal', 'Khesari', 'Sweet potato', 'Potato', 'Onion', 'Tapioca', 'Colocosia']\n",
    "    spices_crops = ['Perilla', 'Ginger', 'Cardamom', 'Black pepper', 'Dry ginger', 'Garlic', 'Coriander', 'Turmeric', 'Dry chillies', 'Cond-spcs other']\n",
    "    fibres_crops = ['other fibres', 'Kapas', 'Jute & mesta', 'Jute', 'Mesta', 'Cotton(lint)', 'Sannhamp']\n",
    "    nuts_crops = ['Arcanut (Processed)', 'Atcanut (Raw)', 'Cashewnut Processed', 'Cashewnut Raw', 'Cashewnut', 'Arecanut', 'Groundnut']\n",
    "    oilseeds_crops = ['other oilseeds', 'Safflower', 'Niger seed', 'Castor seed', 'Linseed', 'Sunflower', 'Rapeseed &Mustard', 'Sesamum', 'Oilseeds total']\n",
    "    commercial_crops = ['Tobacco', 'Coffee', 'Tea', 'Sugarcane', 'Rubber']\n",
    "\n",
    "    if crop in cereal_crops:\n",
    "        return 'Cereal'\n",
    "    elif crop in pulses_crops:\n",
    "        return 'Pulses'\n",
    "    elif crop in fruits_crops:\n",
    "        return 'Fruits'\n",
    "    elif crop in beans_crops:\n",
    "        return 'Beans'\n",
    "    elif crop in vegetables_crops:\n",
    "        return 'Vegetables'\n",
    "    elif crop in spices_crops:\n",
    "        return 'Spices'\n",
    "    elif crop in fibres_crops:\n",
    "        return 'Fibres'\n",
    "    elif crop in nuts_crops:\n",
    "        return 'Nuts'\n",
    "    elif crop in oilseeds_crops:\n",
    "        return 'Oilseeds'\n",
    "    elif crop in commercial_crops:\n",
    "        return 'Commercial'\n",
    "    else:\n",
    "        return 'Other'\n",
    "\n",
    "final_df['cat_crop'] = final_df['Crop'].apply(cat_crop)\n"
   ]
  },
  {
   "cell_type": "code",
   "execution_count": 46,
   "metadata": {},
   "outputs": [
    {
     "data": {
      "text/plain": [
       "Cereal        63800\n",
       "Pulses        38509\n",
       "Oilseeds      34454\n",
       "Vegetables    23369\n",
       "Spices        21986\n",
       "Other         15876\n",
       "Nuts          11588\n",
       "Commercial    10716\n",
       "Fibres        10195\n",
       "Beans          9355\n",
       "Fruits         6243\n",
       "Name: cat_crop, dtype: int64"
      ]
     },
     "execution_count": 46,
     "metadata": {},
     "output_type": "execute_result"
    }
   ],
   "source": [
    "final_df['cat_crop'].value_counts()\n"
   ]
  },
  {
   "cell_type": "code",
   "execution_count": 47,
   "metadata": {},
   "outputs": [],
   "source": [
    "# findings and visualizations"
   ]
  },
  {
   "cell_type": "code",
   "execution_count": 49,
   "metadata": {},
   "outputs": [],
   "source": [
    "# zone-wise production"
   ]
  },
  {
   "cell_type": "code",
   "execution_count": 50,
   "metadata": {},
   "outputs": [
    {
     "data": {
      "text/html": [
       "<iframe\n",
       "    scrolling=\"no\"\n",
       "    width=\"100%\"\n",
       "    height=\"545px\"\n",
       "    src=\"iframe_figures/figure_50.html\"\n",
       "    frameborder=\"0\"\n",
       "    allowfullscreen\n",
       "></iframe>\n"
      ]
     },
     "metadata": {},
     "output_type": "display_data"
    }
   ],
   "source": [
    "\n",
    "# Sort the DataFrame by 'Zones' in descending order\n",
    "final_df_sorted = final_df.sort_values('Zones', ascending=False)\n",
    "\n",
    "# Create a bar plot using Plotly\n",
    "fig = go.Figure(data=go.Bar(\n",
    "    x=final_df_sorted['Zones'],\n",
    "    y=final_df_sorted['Production'],\n",
    "    marker_color='blue'\n",
    "))\n",
    "\n",
    "# Set the y-axis scale to logarithmic\n",
    "fig.update_layout(yaxis_type=\"log\")\n",
    "\n",
    "# Customize the bar plot\n",
    "fig.update_layout(\n",
    "    title=\"Zone Wise Total Production\",\n",
    "    xaxis_title=\"Zones\",\n",
    "    yaxis_title=\"Production\"\n",
    ")\n",
    "\n",
    "# Display the bar plot\n",
    "fig.show()\n"
   ]
  },
  {
   "cell_type": "code",
   "execution_count": 51,
   "metadata": {},
   "outputs": [],
   "source": [
    "# analysing the state in south zone which produces the highest production"
   ]
  },
  {
   "cell_type": "code",
   "execution_count": 53,
   "metadata": {},
   "outputs": [
    {
     "data": {
      "text/html": [
       "<iframe\n",
       "    scrolling=\"no\"\n",
       "    width=\"100%\"\n",
       "    height=\"545px\"\n",
       "    src=\"iframe_figures/figure_53.html\"\n",
       "    frameborder=\"0\"\n",
       "    allowfullscreen\n",
       "></iframe>\n"
      ]
     },
     "metadata": {},
     "output_type": "display_data"
    }
   ],
   "source": [
    "\n",
    "# Filter the DataFrame for the South Zone\n",
    "south_zone = final_df[final_df['Zones'] == 'South Zone']\n",
    "\n",
    "# Create a bar plot using Plotly\n",
    "fig = go.Figure(data=go.Bar(\n",
    "    x=south_zone['State_Name'],\n",
    "    y=south_zone['Production'],\n",
    "    marker_color='orange'\n",
    "))\n",
    "\n",
    "# Set the y-axis scale to logarithmic\n",
    "fig.update_layout(yaxis_type='log')\n",
    "\n",
    "# Customize the bar plot\n",
    "fig.update_layout(\n",
    "    title='Southern-Zone wise Production',\n",
    "    xaxis_title='State Name',\n",
    "    yaxis_title='Production'\n",
    ")\n",
    "\n",
    "# Display the bar plot\n",
    "fig.show()\n"
   ]
  },
  {
   "cell_type": "code",
   "execution_count": 54,
   "metadata": {},
   "outputs": [],
   "source": [
    "# analysing the district zone in kerala which gives the highest production"
   ]
  },
  {
   "cell_type": "code",
   "execution_count": 63,
   "metadata": {},
   "outputs": [
    {
     "data": {
      "text/html": [
       "<iframe\n",
       "    scrolling=\"no\"\n",
       "    width=\"100%\"\n",
       "    height=\"545px\"\n",
       "    src=\"iframe_figures/figure_63.html\"\n",
       "    frameborder=\"0\"\n",
       "    allowfullscreen\n",
       "></iframe>\n"
      ]
     },
     "metadata": {},
     "output_type": "display_data"
    }
   ],
   "source": [
    "import plotly.graph_objects as go\n",
    "import pandas as pd\n",
    "\n",
    "# Assuming you have a DataFrame called 'final_df' with the 'State_Name', 'District_Name', and 'Production' variables\n",
    "\n",
    "# Filter the DataFrame for Kerala\n",
    "Kerala = final_df[final_df['State_Name'] == 'Kerala']\n",
    "\n",
    "# Create a bar plot using Plotly\n",
    "fig = go.Figure(data=go.Bar(\n",
    "    x=Kerala['District_Name'],\n",
    "    y=Kerala['Production'],\n",
    "    marker_color='blue'\n",
    "))\n",
    "\n",
    "# Set the y-axis scale to logarithmic\n",
    "fig.update_layout(yaxis_type='log')\n",
    "\n",
    "# Customize the bar plot\n",
    "fig.update_layout(\n",
    "    title='Kerala District-wise Production',\n",
    "    xaxis_title='District Name',\n",
    "    yaxis_title='Production'\n",
    ")\n",
    "\n",
    "# Rotate the x-axis labels\n",
    "fig.update_layout(xaxis_tickangle=-90)\n",
    "\n",
    "# Display the bar plot\n",
    "fig.show()\n"
   ]
  },
  {
   "cell_type": "code",
   "execution_count": 57,
   "metadata": {},
   "outputs": [],
   "source": [
    "# crop wise production"
   ]
  },
  {
   "cell_type": "code",
   "execution_count": 58,
   "metadata": {},
   "outputs": [
    {
     "data": {
      "application/javascript": [
       "\n",
       "        if (window._pyforest_update_imports_cell) { window._pyforest_update_imports_cell('import plotly.express as px\\nimport plotly.graph_objs as go'); }\n",
       "    "
      ],
      "text/plain": [
       "<IPython.core.display.Javascript object>"
      ]
     },
     "metadata": {},
     "output_type": "display_data"
    },
    {
     "data": {
      "text/html": [
       "<iframe\n",
       "    scrolling=\"no\"\n",
       "    width=\"100%\"\n",
       "    height=\"545px\"\n",
       "    src=\"iframe_figures/figure_58.html\"\n",
       "    frameborder=\"0\"\n",
       "    allowfullscreen\n",
       "></iframe>\n"
      ]
     },
     "metadata": {},
     "output_type": "display_data"
    }
   ],
   "source": [
    "import plotly.graph_objects as go\n",
    "import pandas as pd\n",
    "\n",
    "# Assuming you have a DataFrame called 'final_df' with the 'Crop' and 'Production' variables\n",
    "\n",
    "# Calculate the sum of production for each crop and select the top 10 crops\n",
    "crop = final_df.groupby('Crop')['Production'].sum().reset_index().sort_values('Production', ascending=False).head(10)\n",
    "\n",
    "# Create a bar plot using Plotly\n",
    "fig = go.Figure(data=go.Bar(\n",
    "    x=crop['Crop'],\n",
    "    y=crop['Production'],\n",
    "    marker_color=px.colors.qualitative.Plotly\n",
    "))\n",
    "\n",
    "# Set the y-axis scale to logarithmic\n",
    "fig.update_layout(yaxis_type='log')\n",
    "\n",
    "# Customize the bar plot\n",
    "fig.update_layout(\n",
    "    title='Overall Crops vs Production',\n",
    "    xaxis_title='Crop',\n",
    "    yaxis_title='Production'\n",
    ")\n",
    "\n",
    "# Rotate the x-axis labels\n",
    "fig.update_layout(xaxis_tickangle=-90)\n",
    "\n",
    "# Display the bar plot\n",
    "fig.show()\n"
   ]
  },
  {
   "cell_type": "code",
   "execution_count": 64,
   "metadata": {},
   "outputs": [],
   "source": [
    "# season wise productions"
   ]
  },
  {
   "cell_type": "code",
   "execution_count": 65,
   "metadata": {},
   "outputs": [
    {
     "data": {
      "text/html": [
       "<iframe\n",
       "    scrolling=\"no\"\n",
       "    width=\"100%\"\n",
       "    height=\"545px\"\n",
       "    src=\"iframe_figures/figure_65.html\"\n",
       "    frameborder=\"0\"\n",
       "    allowfullscreen\n",
       "></iframe>\n"
      ]
     },
     "metadata": {},
     "output_type": "display_data"
    }
   ],
   "source": [
    "\n",
    "# Calculate the sum of production for each season and select the top 10 seasons\n",
    "season = final_df.groupby('Season')['Production'].sum().reset_index().sort_values('Production', ascending=False).head(10)\n",
    "\n",
    "# Create a bar plot using Plotly\n",
    "fig = go.Figure(data=go.Bar(\n",
    "    x=season['Season'],\n",
    "    y=season['Production'],\n",
    "    marker_color=px.colors.qualitative.Plotly\n",
    "))\n",
    "\n",
    "# Set the y-axis scale to logarithmic\n",
    "fig.update_layout(yaxis_type='log')\n",
    "\n",
    "# Customize the bar plot\n",
    "fig.update_layout(\n",
    "    title='Seasonal Crops vs Production',\n",
    "    xaxis_title='Season',\n",
    "    yaxis_title='Production'\n",
    ")\n",
    "\n",
    "# Rotate the x-axis labels\n",
    "fig.update_layout(xaxis_tickangle=-90)\n",
    "\n",
    "# Display the bar plot\n",
    "fig.show()\n"
   ]
  },
  {
   "cell_type": "code",
   "execution_count": 66,
   "metadata": {},
   "outputs": [],
   "source": [
    "# year vs production analysis"
   ]
  },
  {
   "cell_type": "code",
   "execution_count": 69,
   "metadata": {},
   "outputs": [
    {
     "data": {
      "text/html": [
       "<iframe\n",
       "    scrolling=\"no\"\n",
       "    width=\"100%\"\n",
       "    height=\"545px\"\n",
       "    src=\"iframe_figures/figure_69.html\"\n",
       "    frameborder=\"0\"\n",
       "    allowfullscreen\n",
       "></iframe>\n"
      ]
     },
     "metadata": {},
     "output_type": "display_data"
    }
   ],
   "source": [
    "\n",
    "# Group the data by crop year and calculate the sum of production\n",
    "production_by_year = final_df.groupby('Crop_Year')['Production'].sum()\n",
    "\n",
    "# Create a bar plot using Plotly\n",
    "fig = go.Figure(data=go.Bar(\n",
    "    x=production_by_year.index,\n",
    "    y=production_by_year.values,\n",
    "    marker_color='skyblue'\n",
    "))\n",
    "\n",
    "# Customize the bar plot\n",
    "fig.update_layout(\n",
    "    title='Total Production by Crop Year',\n",
    "    xaxis_title='Crop Year',\n",
    "    yaxis_title='Production'\n",
    ")\n",
    "\n",
    "# Set the tick label font size\n",
    "fig.update_layout(\n",
    "    xaxis=dict(tickfont=dict(size=10)),\n",
    "    yaxis=dict(tickfont=dict(size=10))\n",
    ")\n",
    "\n",
    "# Display the bar plot\n",
    "fig.show()\n"
   ]
  },
  {
   "cell_type": "code",
   "execution_count": 70,
   "metadata": {},
   "outputs": [],
   "source": [
    "# crop categories vs production"
   ]
  },
  {
   "cell_type": "code",
   "execution_count": 74,
   "metadata": {},
   "outputs": [
    {
     "data": {
      "text/html": [
       "<iframe\n",
       "    scrolling=\"no\"\n",
       "    width=\"100%\"\n",
       "    height=\"545px\"\n",
       "    src=\"iframe_figures/figure_74.html\"\n",
       "    frameborder=\"0\"\n",
       "    allowfullscreen\n",
       "></iframe>\n"
      ]
     },
     "metadata": {},
     "output_type": "display_data"
    }
   ],
   "source": [
    "\n",
    "# Group the data by 'cat_crop' and calculate the count of productions\n",
    "count_by_cat_crop = final_df.groupby('cat_crop')['Production'].count()\n",
    "\n",
    "# Create a bar plot using Plotly\n",
    "fig = go.Figure(data=go.Bar(\n",
    "    x=count_by_cat_crop.index,\n",
    "    y=count_by_cat_crop.values,\n",
    "    marker_color='mediumslateblue'\n",
    "))\n",
    "\n",
    "# Customize the bar plot\n",
    "fig.update_layout(\n",
    "    title='Count of Productions by Category of Crop',\n",
    "    xaxis_title='Crop Category',\n",
    "    yaxis_title='Count of Productions'\n",
    ")\n",
    "\n",
    "# Set the tick label font size\n",
    "fig.update_layout(\n",
    "    xaxis=dict(tickfont=dict(size=10)),\n",
    "    yaxis=dict(tickfont=dict(size=10))\n",
    ")\n",
    "\n",
    "# Display the bar plot\n",
    "fig.show()\n"
   ]
  },
  {
   "cell_type": "code",
   "execution_count": 75,
   "metadata": {},
   "outputs": [],
   "source": [
    "# season vs crop categories vs state"
   ]
  },
  {
   "cell_type": "code",
   "execution_count": null,
   "metadata": {},
   "outputs": [],
   "source": []
  },
  {
   "cell_type": "code",
   "execution_count": 82,
   "metadata": {},
   "outputs": [],
   "source": [
    "# Percentage of crop categories"
   ]
  },
  {
   "cell_type": "code",
   "execution_count": 83,
   "metadata": {},
   "outputs": [
    {
     "data": {
      "text/html": [
       "<iframe\n",
       "    scrolling=\"no\"\n",
       "    width=\"100%\"\n",
       "    height=\"545px\"\n",
       "    src=\"iframe_figures/figure_83.html\"\n",
       "    frameborder=\"0\"\n",
       "    allowfullscreen\n",
       "></iframe>\n"
      ]
     },
     "metadata": {},
     "output_type": "display_data"
    }
   ],
   "source": [
    "\n",
    "# Calculate the count of crop categories\n",
    "cat_crop_count_df = final_df[\"cat_crop\"].value_counts()\n",
    "\n",
    "# Create a pie chart using Plotly\n",
    "fig = go.Figure(data=go.Pie(\n",
    "    labels=cat_crop_count_df.index,\n",
    "    values=cat_crop_count_df.values,\n",
    "    hole=0.3,\n",
    "    hoverinfo='label+percent',\n",
    "    textinfo='value+percent'\n",
    "))\n",
    "\n",
    "# Customize the pie chart\n",
    "fig.update_layout(\n",
    "    title='Crop Category Distribution',\n",
    "    font=dict(\n",
    "        size=10\n",
    "    )\n",
    ")\n",
    "\n",
    "# Display the pie chart\n",
    "fig.show()\n"
   ]
  },
  {
   "cell_type": "markdown",
   "metadata": {},
   "source": [
    "Result: Cereal production was greater followed by Pulses and oilseeds"
   ]
  },
  {
   "cell_type": "code",
   "execution_count": 86,
   "metadata": {},
   "outputs": [],
   "source": [
    "# key Indicators and obtaining useful inaights"
   ]
  },
  {
   "cell_type": "code",
   "execution_count": 87,
   "metadata": {},
   "outputs": [],
   "source": [
    "# State that dominates in crop production by producing a variety of crop categories"
   ]
  },
  {
   "cell_type": "code",
   "execution_count": 89,
   "metadata": {},
   "outputs": [
    {
     "data": {
      "text/html": [
       "<iframe\n",
       "    scrolling=\"no\"\n",
       "    width=\"100%\"\n",
       "    height=\"545px\"\n",
       "    src=\"iframe_figures/figure_89.html\"\n",
       "    frameborder=\"0\"\n",
       "    allowfullscreen\n",
       "></iframe>\n"
      ]
     },
     "metadata": {},
     "output_type": "display_data"
    }
   ],
   "source": [
    "\n",
    "# Create a cross-tabulation of State_Name and cat_crop\n",
    "state_cat_crop = pd.crosstab(final_df['State_Name'], final_df['cat_crop'])\n",
    "\n",
    "# Get the unique crop categories\n",
    "crop_categories = final_df['cat_crop'].unique()\n",
    "\n",
    "# Create a list to store the data for each crop category\n",
    "data = []\n",
    "\n",
    "# Iterate over the crop categories and create a bar trace for each\n",
    "for category in crop_categories:\n",
    "    data.append(go.Bar(name=category, x=state_cat_crop.index, y=state_cat_crop[category]))\n",
    "\n",
    "# Create the layout for the chart\n",
    "layout = go.Layout(\n",
    "    title='Crop Category Distribution across States',\n",
    "    xaxis=dict(title='State'),\n",
    "    yaxis=dict(title='Count'),\n",
    "    barmode='stack'\n",
    ")\n",
    "\n",
    "# Create the figure object\n",
    "fig = go.Figure(data=data, layout=layout)\n",
    "\n",
    "# Display the chart\n",
    "fig.show()\n"
   ]
  },
  {
   "cell_type": "code",
   "execution_count": 90,
   "metadata": {},
   "outputs": [],
   "source": [
    "# Which crop is grown in high frequency in India? Provide useful insights for the same"
   ]
  },
  {
   "cell_type": "code",
   "execution_count": 91,
   "metadata": {},
   "outputs": [
    {
     "data": {
      "text/plain": [
       "Rice                 15104\n",
       "Maize                13947\n",
       "Moong(Green Gram)    10318\n",
       "Urad                  9850\n",
       "Sesamum               9046\n",
       "Name: Crop, dtype: int64"
      ]
     },
     "execution_count": 91,
     "metadata": {},
     "output_type": "execute_result"
    }
   ],
   "source": [
    "final_df['Crop'].value_counts()[:5]"
   ]
  },
  {
   "cell_type": "code",
   "execution_count": 92,
   "metadata": {},
   "outputs": [
    {
     "name": "stdout",
     "output_type": "stream",
     "text": [
      "(15104, 9)\n"
     ]
    },
    {
     "data": {
      "text/html": [
       "<div>\n",
       "<style scoped>\n",
       "    .dataframe tbody tr th:only-of-type {\n",
       "        vertical-align: middle;\n",
       "    }\n",
       "\n",
       "    .dataframe tbody tr th {\n",
       "        vertical-align: top;\n",
       "    }\n",
       "\n",
       "    .dataframe thead th {\n",
       "        text-align: right;\n",
       "    }\n",
       "</style>\n",
       "<table border=\"1\" class=\"dataframe\">\n",
       "  <thead>\n",
       "    <tr style=\"text-align: right;\">\n",
       "      <th></th>\n",
       "      <th>State_Name</th>\n",
       "      <th>District_Name</th>\n",
       "      <th>Crop_Year</th>\n",
       "      <th>Season</th>\n",
       "      <th>Crop</th>\n",
       "      <th>Area</th>\n",
       "      <th>Production</th>\n",
       "      <th>Zones</th>\n",
       "      <th>cat_crop</th>\n",
       "    </tr>\n",
       "  </thead>\n",
       "  <tbody>\n",
       "    <tr>\n",
       "      <th>66501</th>\n",
       "      <td>Haryana</td>\n",
       "      <td>FATEHABAD</td>\n",
       "      <td>1997</td>\n",
       "      <td>Kharif</td>\n",
       "      <td>Rice</td>\n",
       "      <td>52000.0</td>\n",
       "      <td>184000.0</td>\n",
       "      <td>North Zone</td>\n",
       "      <td>Cereal</td>\n",
       "    </tr>\n",
       "    <tr>\n",
       "      <th>66514</th>\n",
       "      <td>Haryana</td>\n",
       "      <td>FATEHABAD</td>\n",
       "      <td>1998</td>\n",
       "      <td>Kharif</td>\n",
       "      <td>Rice</td>\n",
       "      <td>70105.0</td>\n",
       "      <td>208000.0</td>\n",
       "      <td>North Zone</td>\n",
       "      <td>Cereal</td>\n",
       "    </tr>\n",
       "    <tr>\n",
       "      <th>66531</th>\n",
       "      <td>Haryana</td>\n",
       "      <td>FATEHABAD</td>\n",
       "      <td>1999</td>\n",
       "      <td>Kharif</td>\n",
       "      <td>Rice</td>\n",
       "      <td>69238.0</td>\n",
       "      <td>164000.0</td>\n",
       "      <td>North Zone</td>\n",
       "      <td>Cereal</td>\n",
       "    </tr>\n",
       "    <tr>\n",
       "      <th>66552</th>\n",
       "      <td>Haryana</td>\n",
       "      <td>FATEHABAD</td>\n",
       "      <td>2000</td>\n",
       "      <td>Kharif</td>\n",
       "      <td>Rice</td>\n",
       "      <td>61308.0</td>\n",
       "      <td>199000.0</td>\n",
       "      <td>North Zone</td>\n",
       "      <td>Cereal</td>\n",
       "    </tr>\n",
       "  </tbody>\n",
       "</table>\n",
       "</div>"
      ],
      "text/plain": [
       "      State_Name District_Name  Crop_Year  Season  Crop     Area  Production  \\\n",
       "66501    Haryana     FATEHABAD       1997  Kharif  Rice  52000.0    184000.0   \n",
       "66514    Haryana     FATEHABAD       1998  Kharif  Rice  70105.0    208000.0   \n",
       "66531    Haryana     FATEHABAD       1999  Kharif  Rice  69238.0    164000.0   \n",
       "66552    Haryana     FATEHABAD       2000  Kharif  Rice  61308.0    199000.0   \n",
       "\n",
       "            Zones cat_crop  \n",
       "66501  North Zone   Cereal  \n",
       "66514  North Zone   Cereal  \n",
       "66531  North Zone   Cereal  \n",
       "66552  North Zone   Cereal  "
      ]
     },
     "execution_count": 92,
     "metadata": {},
     "output_type": "execute_result"
    }
   ],
   "source": [
    "rice_df=final_df[final_df['Crop']==\"Rice\"]\n",
    "print(rice_df.shape)\n",
    "rice_df.head(4)"
   ]
  },
  {
   "cell_type": "code",
   "execution_count": 93,
   "metadata": {},
   "outputs": [
    {
     "data": {
      "text/html": [
       "<iframe\n",
       "    scrolling=\"no\"\n",
       "    width=\"100%\"\n",
       "    height=\"545px\"\n",
       "    src=\"iframe_figures/figure_93.html\"\n",
       "    frameborder=\"0\"\n",
       "    allowfullscreen\n",
       "></iframe>\n"
      ]
     },
     "metadata": {},
     "output_type": "display_data"
    }
   ],
   "source": [
    "\n",
    "fig = go.Figure(data=go.Bar(\n",
    "    x=rice_df['Season'],\n",
    "    y=rice_df['Production']\n",
    "))\n",
    "\n",
    "fig.update_layout(\n",
    "    title='Season vs Production',\n",
    "    xaxis_title='Season',\n",
    "    yaxis_title='Production'\n",
    ")\n",
    "\n",
    "fig.show()\n"
   ]
  },
  {
   "cell_type": "code",
   "execution_count": 96,
   "metadata": {},
   "outputs": [
    {
     "data": {
      "text/html": [
       "<iframe\n",
       "    scrolling=\"no\"\n",
       "    width=\"100%\"\n",
       "    height=\"545px\"\n",
       "    src=\"iframe_figures/figure_96.html\"\n",
       "    frameborder=\"0\"\n",
       "    allowfullscreen\n",
       "></iframe>\n"
      ]
     },
     "metadata": {},
     "output_type": "display_data"
    }
   ],
   "source": [
    "\n",
    "fig = go.Figure(data=go.Bar(\n",
    "    x=rice_df['State_Name'],\n",
    "    y=rice_df['Production']\n",
    "   \n",
    "))\n",
    "\n",
    "fig.update_layout(\n",
    "    title='Production of Rice by State',\n",
    "    xaxis_title='State Name',\n",
    "    yaxis_title='Production'\n",
    ")\n",
    "\n",
    "fig.update_layout(xaxis_tickangle=-90)\n",
    "\n",
    "fig.show()\n"
   ]
  },
  {
   "cell_type": "code",
   "execution_count": 97,
   "metadata": {},
   "outputs": [
    {
     "data": {
      "text/html": [
       "<div>\n",
       "<style scoped>\n",
       "    .dataframe tbody tr th:only-of-type {\n",
       "        vertical-align: middle;\n",
       "    }\n",
       "\n",
       "    .dataframe tbody tr th {\n",
       "        vertical-align: top;\n",
       "    }\n",
       "\n",
       "    .dataframe thead th {\n",
       "        text-align: right;\n",
       "    }\n",
       "</style>\n",
       "<table border=\"1\" class=\"dataframe\">\n",
       "  <thead>\n",
       "    <tr style=\"text-align: right;\">\n",
       "      <th></th>\n",
       "      <th>District_Name</th>\n",
       "      <th>Production</th>\n",
       "    </tr>\n",
       "  </thead>\n",
       "  <tbody>\n",
       "    <tr>\n",
       "      <th>58</th>\n",
       "      <td>BARDHAMAN</td>\n",
       "      <td>3.423998e+07</td>\n",
       "    </tr>\n",
       "    <tr>\n",
       "      <th>375</th>\n",
       "      <td>MEDINIPUR WEST</td>\n",
       "      <td>2.919272e+07</td>\n",
       "    </tr>\n",
       "    <tr>\n",
       "      <th>613</th>\n",
       "      <td>WEST GODAVARI</td>\n",
       "      <td>2.784531e+07</td>\n",
       "    </tr>\n",
       "    <tr>\n",
       "      <th>316</th>\n",
       "      <td>KOLLAM</td>\n",
       "      <td>2.695188e+07</td>\n",
       "    </tr>\n",
       "    <tr>\n",
       "      <th>169</th>\n",
       "      <td>EAST GODAVARI</td>\n",
       "      <td>2.469093e+07</td>\n",
       "    </tr>\n",
       "  </tbody>\n",
       "</table>\n",
       "</div>"
      ],
      "text/plain": [
       "      District_Name    Production\n",
       "58        BARDHAMAN  3.423998e+07\n",
       "375  MEDINIPUR WEST  2.919272e+07\n",
       "613   WEST GODAVARI  2.784531e+07\n",
       "316          KOLLAM  2.695188e+07\n",
       "169   EAST GODAVARI  2.469093e+07"
      ]
     },
     "execution_count": 97,
     "metadata": {},
     "output_type": "execute_result"
    }
   ],
   "source": [
    "top_rice_dist = rice_df.groupby(\"District_Name\")[\"Production\"].sum().reset_index().sort_values(by=\"Production\", ascending=False)\n",
    "top_rice_dist.head(5)"
   ]
  },
  {
   "cell_type": "code",
   "execution_count": 98,
   "metadata": {},
   "outputs": [
    {
     "data": {
      "text/html": [
       "<iframe\n",
       "    scrolling=\"no\"\n",
       "    width=\"100%\"\n",
       "    height=\"545px\"\n",
       "    src=\"iframe_figures/figure_98.html\"\n",
       "    frameborder=\"0\"\n",
       "    allowfullscreen\n",
       "></iframe>\n"
      ]
     },
     "metadata": {},
     "output_type": "display_data"
    }
   ],
   "source": [
    "\n",
    "# Create a list of colors for each bar\n",
    "colors = ['rgb(31, 119, 180)', 'rgb(255, 127, 14)', 'rgb(44, 160, 44)', 'rgb(214, 39, 40)', 'rgb(148, 103, 189)']\n",
    "\n",
    "# Create a bar trace for each district\n",
    "bar_traces = []\n",
    "for i, row in top_rice_dist[:10].iterrows():\n",
    "    bar_trace = go.Bar(\n",
    "        x=[row['District_Name']],\n",
    "        y=[row['Production']],\n",
    "        marker=dict(color=colors[i % len(colors)]),\n",
    "        name=row['District_Name']\n",
    "    )\n",
    "    bar_traces.append(bar_trace)\n",
    "\n",
    "# Create the layout for the bar plot\n",
    "layout = go.Layout(\n",
    "    title='Top 10 Rice Producing Districts',\n",
    "    xaxis=dict(title='District Name'),\n",
    "    yaxis=dict(title='Production')\n",
    ")\n",
    "\n",
    "# Create the figure with the bar traces and layout\n",
    "fig = go.Figure(data=bar_traces, layout=layout)\n",
    "\n",
    "# Show the figure\n",
    "fig.show()\n"
   ]
  },
  {
   "cell_type": "code",
   "execution_count": 99,
   "metadata": {},
   "outputs": [
    {
     "data": {
      "text/html": [
       "<iframe\n",
       "    scrolling=\"no\"\n",
       "    width=\"100%\"\n",
       "    height=\"545px\"\n",
       "    src=\"iframe_figures/figure_99.html\"\n",
       "    frameborder=\"0\"\n",
       "    allowfullscreen\n",
       "></iframe>\n"
      ]
     },
     "metadata": {},
     "output_type": "display_data"
    }
   ],
   "source": [
    "\n",
    "# Create a bar trace\n",
    "bar_trace = go.Bar(\n",
    "    x=rice_df['Crop_Year'],\n",
    "    y=rice_df['Production'],\n",
    "    marker=dict(\n",
    "        color=rice_df['Crop_Year'],\n",
    "        colorscale='Viridis',  # Choose the colorscale you prefer\n",
    "        colorbar=dict(\n",
    "            title='Crop Year'\n",
    "        )\n",
    "    )\n",
    ")\n",
    "\n",
    "# Create the layout for the bar plot\n",
    "layout = go.Layout(\n",
    "    title='Rice Production by Crop Year',\n",
    "    xaxis=dict(title='Crop Year'),\n",
    "    yaxis=dict(title='Production')\n",
    ")\n",
    "\n",
    "# Create the figure with the bar trace and layout\n",
    "fig = go.Figure(data=bar_trace, layout=layout)\n",
    "\n",
    "# Show the figure\n",
    "fig.show()\n"
   ]
  },
  {
   "cell_type": "code",
   "execution_count": 100,
   "metadata": {},
   "outputs": [
    {
     "data": {
      "text/html": [
       "<iframe\n",
       "    scrolling=\"no\"\n",
       "    width=\"100%\"\n",
       "    height=\"545px\"\n",
       "    src=\"iframe_figures/figure_100.html\"\n",
       "    frameborder=\"0\"\n",
       "    allowfullscreen\n",
       "></iframe>\n"
      ]
     },
     "metadata": {},
     "output_type": "display_data"
    }
   ],
   "source": [
    "\n",
    "# Create a scatter trace\n",
    "scatter_trace = go.Scatter(\n",
    "    x=rice_df['Area'],\n",
    "    y=rice_df['Production'],\n",
    "    mode='markers',\n",
    "    marker=dict(\n",
    "        size=6,\n",
    "        color='blue'\n",
    "    ),\n",
    "    name='Data Points'\n",
    ")\n",
    "\n",
    "# Create a line trace for the regression line\n",
    "regression_trace = go.Scatter(\n",
    "    x=rice_df['Area'],\n",
    "    y=rice_df['Production'],\n",
    "    mode='lines',\n",
    "    line=dict(\n",
    "        color='red',\n",
    "        width=2\n",
    "    ),\n",
    "    name='Regression Line'\n",
    ")\n",
    "\n",
    "# Create the layout for the scatter plot\n",
    "layout = go.Layout(\n",
    "    title='Scatter Plot with Regression Line',\n",
    "    xaxis=dict(title='Area'),\n",
    "    yaxis=dict(title='Production')\n",
    ")\n",
    "\n",
    "# Create the figure with the scatter and regression traces and layout\n",
    "fig = go.Figure(data=[scatter_trace, regression_trace], layout=layout)\n",
    "\n",
    "# Show the figure\n",
    "fig.show()\n"
   ]
  },
  {
   "cell_type": "markdown",
   "metadata": {},
   "source": [
    "#### Result:\n",
    "\n",
    "> Rice is the most frequent crop in India. \n",
    "\n",
    "> Rice is produced in high is Winter season followed by Whole year and Kharif\n",
    "\n",
    "> Punjab is richest state for high rice production.\n",
    "\n",
    "> Bardaman district in Punjab is rich for rice production"
   ]
  },
  {
   "cell_type": "code",
   "execution_count": 101,
   "metadata": {},
   "outputs": [],
   "source": [
    "# State that ranks high in area wise crop production in India"
   ]
  },
  {
   "cell_type": "code",
   "execution_count": 102,
   "metadata": {},
   "outputs": [
    {
     "data": {
      "text/html": [
       "<div>\n",
       "<style scoped>\n",
       "    .dataframe tbody tr th:only-of-type {\n",
       "        vertical-align: middle;\n",
       "    }\n",
       "\n",
       "    .dataframe tbody tr th {\n",
       "        vertical-align: top;\n",
       "    }\n",
       "\n",
       "    .dataframe thead th {\n",
       "        text-align: right;\n",
       "    }\n",
       "</style>\n",
       "<table border=\"1\" class=\"dataframe\">\n",
       "  <thead>\n",
       "    <tr style=\"text-align: right;\">\n",
       "      <th></th>\n",
       "      <th>State_Name</th>\n",
       "      <th>Area</th>\n",
       "    </tr>\n",
       "  </thead>\n",
       "  <tbody>\n",
       "    <tr>\n",
       "      <th>30</th>\n",
       "      <td>Uttar Pradesh</td>\n",
       "      <td>4.336316e+08</td>\n",
       "    </tr>\n",
       "    <tr>\n",
       "      <th>16</th>\n",
       "      <td>Madhya Pradesh</td>\n",
       "      <td>3.298131e+08</td>\n",
       "    </tr>\n",
       "    <tr>\n",
       "      <th>17</th>\n",
       "      <td>Maharashtra</td>\n",
       "      <td>3.222062e+08</td>\n",
       "    </tr>\n",
       "    <tr>\n",
       "      <th>25</th>\n",
       "      <td>Rajasthan</td>\n",
       "      <td>2.720249e+08</td>\n",
       "    </tr>\n",
       "    <tr>\n",
       "      <th>32</th>\n",
       "      <td>West Bengal</td>\n",
       "      <td>2.154052e+08</td>\n",
       "    </tr>\n",
       "  </tbody>\n",
       "</table>\n",
       "</div>"
      ],
      "text/plain": [
       "        State_Name          Area\n",
       "30   Uttar Pradesh  4.336316e+08\n",
       "16  Madhya Pradesh  3.298131e+08\n",
       "17     Maharashtra  3.222062e+08\n",
       "25       Rajasthan  2.720249e+08\n",
       "32     West Bengal  2.154052e+08"
      ]
     },
     "execution_count": 102,
     "metadata": {},
     "output_type": "execute_result"
    }
   ],
   "source": [
    "df_area=final_df.groupby(\"State_Name\")[\"Area\"].sum().reset_index().sort_values(by=\"Area\",ascending=False)\n",
    "df_area.head()"
   ]
  },
  {
   "cell_type": "code",
   "execution_count": 104,
   "metadata": {},
   "outputs": [
    {
     "data": {
      "text/html": [
       "<iframe\n",
       "    scrolling=\"no\"\n",
       "    width=\"100%\"\n",
       "    height=\"545px\"\n",
       "    src=\"iframe_figures/figure_104.html\"\n",
       "    frameborder=\"0\"\n",
       "    allowfullscreen\n",
       "></iframe>\n"
      ]
     },
     "metadata": {},
     "output_type": "display_data"
    }
   ],
   "source": [
    "\n",
    "# Create a list of colors for each bar\n",
    "colors = ['blue', 'green', 'red', 'orange', 'purple', 'yellowgreen', 'cyan', 'magenta', 'brown', 'gray']\n",
    "\n",
    "# Create a Bar trace\n",
    "bar_trace = go.Bar(\n",
    "    x=df_area.State_Name.head(10),\n",
    "    y=df_area.Area.head(10),\n",
    "    marker=dict(color=colors),\n",
    "    error_y=dict(visible=False)  # Set error bars to be invisible\n",
    ")\n",
    "\n",
    "# Create the layout for the bar plot\n",
    "layout = go.Layout(\n",
    "    title='Indian Agricultural Area Distribution',\n",
    "    xaxis=dict(title='State Name'),\n",
    "    yaxis=dict(title='Area')\n",
    ")\n",
    "\n",
    "# Create the figure with the bar trace and layout\n",
    "fig = go.Figure(data=[bar_trace], layout=layout)\n",
    "\n",
    "# Show the figure\n",
    "fig.show()\n"
   ]
  },
  {
   "cell_type": "code",
   "execution_count": 105,
   "metadata": {},
   "outputs": [],
   "source": [
    "# Top crops produced in Northeen parts of State"
   ]
  },
  {
   "cell_type": "code",
   "execution_count": 106,
   "metadata": {},
   "outputs": [
    {
     "name": "stdout",
     "output_type": "stream",
     "text": [
      "(51468, 9)\n"
     ]
    }
   ],
   "source": [
    "North_Zone=final_df[final_df[\"Zones\"]==\"North Zone\"]\n",
    "print(North_Zone.shape)"
   ]
  },
  {
   "cell_type": "code",
   "execution_count": 108,
   "metadata": {},
   "outputs": [
    {
     "data": {
      "text/html": [
       "<div>\n",
       "<style scoped>\n",
       "    .dataframe tbody tr th:only-of-type {\n",
       "        vertical-align: middle;\n",
       "    }\n",
       "\n",
       "    .dataframe tbody tr th {\n",
       "        vertical-align: top;\n",
       "    }\n",
       "\n",
       "    .dataframe thead th {\n",
       "        text-align: right;\n",
       "    }\n",
       "</style>\n",
       "<table border=\"1\" class=\"dataframe\">\n",
       "  <thead>\n",
       "    <tr style=\"text-align: right;\">\n",
       "      <th></th>\n",
       "      <th>State_Name</th>\n",
       "      <th>District_Name</th>\n",
       "      <th>Crop_Year</th>\n",
       "      <th>Season</th>\n",
       "      <th>Crop</th>\n",
       "      <th>Area</th>\n",
       "      <th>Production</th>\n",
       "      <th>Zones</th>\n",
       "      <th>cat_crop</th>\n",
       "    </tr>\n",
       "  </thead>\n",
       "  <tbody>\n",
       "    <tr>\n",
       "      <th>66499</th>\n",
       "      <td>Haryana</td>\n",
       "      <td>FATEHABAD</td>\n",
       "      <td>1997</td>\n",
       "      <td>Kharif</td>\n",
       "      <td>Bajra</td>\n",
       "      <td>11000.0</td>\n",
       "      <td>17000.0</td>\n",
       "      <td>North Zone</td>\n",
       "      <td>Cereal</td>\n",
       "    </tr>\n",
       "    <tr>\n",
       "      <th>66500</th>\n",
       "      <td>Haryana</td>\n",
       "      <td>FATEHABAD</td>\n",
       "      <td>1997</td>\n",
       "      <td>Kharif</td>\n",
       "      <td>Other Kharif pulses</td>\n",
       "      <td>1700.0</td>\n",
       "      <td>1300.0</td>\n",
       "      <td>North Zone</td>\n",
       "      <td>Pulses</td>\n",
       "    </tr>\n",
       "    <tr>\n",
       "      <th>66501</th>\n",
       "      <td>Haryana</td>\n",
       "      <td>FATEHABAD</td>\n",
       "      <td>1997</td>\n",
       "      <td>Kharif</td>\n",
       "      <td>Rice</td>\n",
       "      <td>52000.0</td>\n",
       "      <td>184000.0</td>\n",
       "      <td>North Zone</td>\n",
       "      <td>Cereal</td>\n",
       "    </tr>\n",
       "    <tr>\n",
       "      <th>66502</th>\n",
       "      <td>Haryana</td>\n",
       "      <td>FATEHABAD</td>\n",
       "      <td>1997</td>\n",
       "      <td>Rabi</td>\n",
       "      <td>Barley</td>\n",
       "      <td>7000.0</td>\n",
       "      <td>15000.0</td>\n",
       "      <td>North Zone</td>\n",
       "      <td>Cereal</td>\n",
       "    </tr>\n",
       "    <tr>\n",
       "      <th>66503</th>\n",
       "      <td>Haryana</td>\n",
       "      <td>FATEHABAD</td>\n",
       "      <td>1997</td>\n",
       "      <td>Rabi</td>\n",
       "      <td>Gram</td>\n",
       "      <td>13000.0</td>\n",
       "      <td>11000.0</td>\n",
       "      <td>North Zone</td>\n",
       "      <td>Pulses</td>\n",
       "    </tr>\n",
       "  </tbody>\n",
       "</table>\n",
       "</div>"
      ],
      "text/plain": [
       "      State_Name District_Name  Crop_Year  Season                 Crop  \\\n",
       "66499    Haryana     FATEHABAD       1997  Kharif                Bajra   \n",
       "66500    Haryana     FATEHABAD       1997  Kharif  Other Kharif pulses   \n",
       "66501    Haryana     FATEHABAD       1997  Kharif                 Rice   \n",
       "66502    Haryana     FATEHABAD       1997    Rabi               Barley   \n",
       "66503    Haryana     FATEHABAD       1997    Rabi                 Gram   \n",
       "\n",
       "          Area  Production       Zones cat_crop  \n",
       "66499  11000.0     17000.0  North Zone   Cereal  \n",
       "66500   1700.0      1300.0  North Zone   Pulses  \n",
       "66501  52000.0    184000.0  North Zone   Cereal  \n",
       "66502   7000.0     15000.0  North Zone   Cereal  \n",
       "66503  13000.0     11000.0  North Zone   Pulses  "
      ]
     },
     "execution_count": 108,
     "metadata": {},
     "output_type": "execute_result"
    }
   ],
   "source": [
    "North_Zone.head()"
   ]
  },
  {
   "cell_type": "code",
   "execution_count": 109,
   "metadata": {},
   "outputs": [
    {
     "name": "stdout",
     "output_type": "stream",
     "text": [
      "           State_Name    Production\n",
      "5       Uttar Pradesh  3.248159e+09\n",
      "4              Punjab  5.905425e+08\n",
      "1             Haryana  4.930824e+08\n",
      "6         Uttarakhand  1.344728e+08\n",
      "2    Himachal Pradesh  1.823680e+07\n",
      "3  Jammu and Kashmir   1.331539e+07\n",
      "0          Chandigarh  6.467511e+04\n"
     ]
    },
    {
     "data": {
      "text/html": [
       "<iframe\n",
       "    scrolling=\"no\"\n",
       "    width=\"100%\"\n",
       "    height=\"545px\"\n",
       "    src=\"iframe_figures/figure_109.html\"\n",
       "    frameborder=\"0\"\n",
       "    allowfullscreen\n",
       "></iframe>\n"
      ]
     },
     "metadata": {},
     "output_type": "display_data"
    }
   ],
   "source": [
    "\n",
    "# Create the bar plot\n",
    "fig = go.Figure(data=go.Bar(\n",
    "    x=North_Zone['State_Name'],\n",
    "    y=North_Zone['Production'],\n",
    "    marker=dict(\n",
    "        color=North_Zone['Production'],\n",
    "        colorscale='Viridis',\n",
    "        showscale=True\n",
    "    )\n",
    "))\n",
    "\n",
    "# Set the y-axis to logarithmic scale\n",
    "fig.update_layout(yaxis_type='log')\n",
    "\n",
    "# Customize the x-axis tick labels rotation\n",
    "fig.update_layout(xaxis_tickangle=-90)\n",
    "\n",
    "# Set the plot title\n",
    "fig.update_layout(title='Northern-Zone Production')\n",
    "\n",
    "# Group by State_Name and calculate the total Production\n",
    "grouped_df = North_Zone.groupby('State_Name')['Production'].sum().reset_index().sort_values(by='Production', ascending=False)\n",
    "\n",
    "# Print the grouped data\n",
    "print(grouped_df)\n",
    "\n",
    "# Display the plot\n",
    "fig.show()\n"
   ]
  },
  {
   "cell_type": "code",
   "execution_count": 111,
   "metadata": {},
   "outputs": [
    {
     "data": {
      "text/html": [
       "<iframe\n",
       "    scrolling=\"no\"\n",
       "    width=\"100%\"\n",
       "    height=\"545px\"\n",
       "    src=\"iframe_figures/figure_111.html\"\n",
       "    frameborder=\"0\"\n",
       "    allowfullscreen\n",
       "></iframe>\n"
      ]
     },
     "metadata": {},
     "output_type": "display_data"
    }
   ],
   "source": [
    "df_NZ = North_Zone.groupby(\"Crop\")[\"Production\"].sum().reset_index().sort_values(by=\"Production\",ascending=False).head(10)\n",
    "# Create the bar plot\n",
    "fig = go.Figure(data=go.Bar(\n",
    "    x=df_NZ['Crop'],\n",
    "    y=df_NZ['Production'],\n",
    "    marker=dict(\n",
    "        color=df_NZ['Production'],\n",
    "        colorscale='Viridis',\n",
    "        showscale=True\n",
    "    )\n",
    "))\n",
    "\n",
    "# Set the y-axis to logarithmic scale\n",
    "fig.update_layout(yaxis_type='log')\n",
    "\n",
    "# Customize the x-axis tick labels rotation\n",
    "fig.update_layout(xaxis_tickangle=-90)\n",
    "\n",
    "# Set the plot title\n",
    "fig.update_layout(title='Crop vs Production in Northern-Zone')\n",
    "\n",
    "# Display the plot\n",
    "fig.show()\n"
   ]
  },
  {
   "cell_type": "code",
   "execution_count": 112,
   "metadata": {},
   "outputs": [],
   "source": [
    "# Top crop produced in Southern Zone"
   ]
  },
  {
   "cell_type": "code",
   "execution_count": 114,
   "metadata": {},
   "outputs": [
    {
     "name": "stdout",
     "output_type": "stream",
     "text": [
      "(54207, 9)\n"
     ]
    }
   ],
   "source": [
    "South_Zone=final_df[final_df[\"Zones\"]==\"South Zone\"]\n",
    "print(South_Zone.shape)"
   ]
  },
  {
   "cell_type": "code",
   "execution_count": 115,
   "metadata": {},
   "outputs": [
    {
     "data": {
      "text/html": [
       "<div>\n",
       "<style scoped>\n",
       "    .dataframe tbody tr th:only-of-type {\n",
       "        vertical-align: middle;\n",
       "    }\n",
       "\n",
       "    .dataframe tbody tr th {\n",
       "        vertical-align: top;\n",
       "    }\n",
       "\n",
       "    .dataframe thead th {\n",
       "        text-align: right;\n",
       "    }\n",
       "</style>\n",
       "<table border=\"1\" class=\"dataframe\">\n",
       "  <thead>\n",
       "    <tr style=\"text-align: right;\">\n",
       "      <th></th>\n",
       "      <th>State_Name</th>\n",
       "      <th>District_Name</th>\n",
       "      <th>Crop_Year</th>\n",
       "      <th>Season</th>\n",
       "      <th>Crop</th>\n",
       "      <th>Area</th>\n",
       "      <th>Production</th>\n",
       "      <th>Zones</th>\n",
       "      <th>cat_crop</th>\n",
       "    </tr>\n",
       "  </thead>\n",
       "  <tbody>\n",
       "    <tr>\n",
       "      <th>189707</th>\n",
       "      <td>Tamil Nadu</td>\n",
       "      <td>VELLORE</td>\n",
       "      <td>1997</td>\n",
       "      <td>Kharif</td>\n",
       "      <td>Banana</td>\n",
       "      <td>4121.0</td>\n",
       "      <td>137719.0</td>\n",
       "      <td>South Zone</td>\n",
       "      <td>Fruits</td>\n",
       "    </tr>\n",
       "    <tr>\n",
       "      <th>189708</th>\n",
       "      <td>Tamil Nadu</td>\n",
       "      <td>VELLORE</td>\n",
       "      <td>1997</td>\n",
       "      <td>Kharif</td>\n",
       "      <td>Horse-gram</td>\n",
       "      <td>3234.0</td>\n",
       "      <td>850.0</td>\n",
       "      <td>South Zone</td>\n",
       "      <td>Beans</td>\n",
       "    </tr>\n",
       "    <tr>\n",
       "      <th>189709</th>\n",
       "      <td>Tamil Nadu</td>\n",
       "      <td>VELLORE</td>\n",
       "      <td>1997</td>\n",
       "      <td>Kharif</td>\n",
       "      <td>Onion</td>\n",
       "      <td>17.0</td>\n",
       "      <td>137.0</td>\n",
       "      <td>South Zone</td>\n",
       "      <td>Vegetables</td>\n",
       "    </tr>\n",
       "    <tr>\n",
       "      <th>189710</th>\n",
       "      <td>Tamil Nadu</td>\n",
       "      <td>VELLORE</td>\n",
       "      <td>1997</td>\n",
       "      <td>Kharif</td>\n",
       "      <td>Sesamum</td>\n",
       "      <td>666.0</td>\n",
       "      <td>450.0</td>\n",
       "      <td>South Zone</td>\n",
       "      <td>Oilseeds</td>\n",
       "    </tr>\n",
       "    <tr>\n",
       "      <th>189711</th>\n",
       "      <td>Tamil Nadu</td>\n",
       "      <td>VELLORE</td>\n",
       "      <td>1997</td>\n",
       "      <td>Kharif</td>\n",
       "      <td>Small millets</td>\n",
       "      <td>4649.0</td>\n",
       "      <td>4080.0</td>\n",
       "      <td>South Zone</td>\n",
       "      <td>Cereal</td>\n",
       "    </tr>\n",
       "    <tr>\n",
       "      <th>189712</th>\n",
       "      <td>Tamil Nadu</td>\n",
       "      <td>VELLORE</td>\n",
       "      <td>1997</td>\n",
       "      <td>Whole Year</td>\n",
       "      <td>Arhar/Tur</td>\n",
       "      <td>9822.0</td>\n",
       "      <td>3930.0</td>\n",
       "      <td>South Zone</td>\n",
       "      <td>Pulses</td>\n",
       "    </tr>\n",
       "    <tr>\n",
       "      <th>189713</th>\n",
       "      <td>Tamil Nadu</td>\n",
       "      <td>VELLORE</td>\n",
       "      <td>1997</td>\n",
       "      <td>Whole Year</td>\n",
       "      <td>Bajra</td>\n",
       "      <td>1511.0</td>\n",
       "      <td>2080.0</td>\n",
       "      <td>South Zone</td>\n",
       "      <td>Cereal</td>\n",
       "    </tr>\n",
       "    <tr>\n",
       "      <th>189714</th>\n",
       "      <td>Tamil Nadu</td>\n",
       "      <td>VELLORE</td>\n",
       "      <td>1997</td>\n",
       "      <td>Whole Year</td>\n",
       "      <td>Banana</td>\n",
       "      <td>8661.0</td>\n",
       "      <td>309930.0</td>\n",
       "      <td>South Zone</td>\n",
       "      <td>Fruits</td>\n",
       "    </tr>\n",
       "    <tr>\n",
       "      <th>189715</th>\n",
       "      <td>Tamil Nadu</td>\n",
       "      <td>VELLORE</td>\n",
       "      <td>1997</td>\n",
       "      <td>Whole Year</td>\n",
       "      <td>Cashewnut</td>\n",
       "      <td>22.0</td>\n",
       "      <td>20.0</td>\n",
       "      <td>South Zone</td>\n",
       "      <td>Nuts</td>\n",
       "    </tr>\n",
       "    <tr>\n",
       "      <th>189716</th>\n",
       "      <td>Tamil Nadu</td>\n",
       "      <td>VELLORE</td>\n",
       "      <td>1997</td>\n",
       "      <td>Whole Year</td>\n",
       "      <td>Castor seed</td>\n",
       "      <td>198.0</td>\n",
       "      <td>70.0</td>\n",
       "      <td>South Zone</td>\n",
       "      <td>Oilseeds</td>\n",
       "    </tr>\n",
       "  </tbody>\n",
       "</table>\n",
       "</div>"
      ],
      "text/plain": [
       "        State_Name District_Name  Crop_Year      Season           Crop  \\\n",
       "189707  Tamil Nadu       VELLORE       1997      Kharif         Banana   \n",
       "189708  Tamil Nadu       VELLORE       1997      Kharif     Horse-gram   \n",
       "189709  Tamil Nadu       VELLORE       1997      Kharif          Onion   \n",
       "189710  Tamil Nadu       VELLORE       1997      Kharif        Sesamum   \n",
       "189711  Tamil Nadu       VELLORE       1997      Kharif  Small millets   \n",
       "189712  Tamil Nadu       VELLORE       1997  Whole Year      Arhar/Tur   \n",
       "189713  Tamil Nadu       VELLORE       1997  Whole Year          Bajra   \n",
       "189714  Tamil Nadu       VELLORE       1997  Whole Year         Banana   \n",
       "189715  Tamil Nadu       VELLORE       1997  Whole Year      Cashewnut   \n",
       "189716  Tamil Nadu       VELLORE       1997  Whole Year    Castor seed   \n",
       "\n",
       "          Area  Production       Zones    cat_crop  \n",
       "189707  4121.0    137719.0  South Zone      Fruits  \n",
       "189708  3234.0       850.0  South Zone       Beans  \n",
       "189709    17.0       137.0  South Zone  Vegetables  \n",
       "189710   666.0       450.0  South Zone    Oilseeds  \n",
       "189711  4649.0      4080.0  South Zone      Cereal  \n",
       "189712  9822.0      3930.0  South Zone      Pulses  \n",
       "189713  1511.0      2080.0  South Zone      Cereal  \n",
       "189714  8661.0    309930.0  South Zone      Fruits  \n",
       "189715    22.0        20.0  South Zone        Nuts  \n",
       "189716   198.0        70.0  South Zone    Oilseeds  "
      ]
     },
     "execution_count": 115,
     "metadata": {},
     "output_type": "execute_result"
    }
   ],
   "source": [
    "South_Zone.head(10)"
   ]
  },
  {
   "cell_type": "code",
   "execution_count": 117,
   "metadata": {},
   "outputs": [
    {
     "data": {
      "text/html": [
       "<iframe\n",
       "    scrolling=\"no\"\n",
       "    width=\"100%\"\n",
       "    height=\"545px\"\n",
       "    src=\"iframe_figures/figure_117.html\"\n",
       "    frameborder=\"0\"\n",
       "    allowfullscreen\n",
       "></iframe>\n"
      ]
     },
     "metadata": {},
     "output_type": "display_data"
    }
   ],
   "source": [
    "df_SZ=South_Zone.groupby(\"Crop\")[\"Production\"].sum().reset_index().sort_values(by=\"Production\",ascending=False).head(10)\n",
    "\n",
    "# Create the bar plot\n",
    "fig = go.Figure(data=go.Bar(\n",
    "    x=df_SZ['Crop'],\n",
    "    y=df_SZ['Production'],\n",
    "    marker=dict(\n",
    "        color=df_SZ['Production'],\n",
    "        colorscale='Viridis',\n",
    "        showscale=True\n",
    "    )\n",
    "))\n",
    "\n",
    "# Set the y-axis to logarithmic scale\n",
    "fig.update_layout(yaxis_type='log')\n",
    "\n",
    "# Customize the x-axis tick labels rotation\n",
    "fig.update_layout(xaxis_tickangle=-90)\n",
    "\n",
    "# Set the plot title\n",
    "fig.update_layout(title='Crop vs Production in Southern-Zone')\n",
    "\n",
    "# Display the plot\n",
    "fig.show()\n"
   ]
  },
  {
   "cell_type": "code",
   "execution_count": 119,
   "metadata": {},
   "outputs": [
    {
     "name": "stdout",
     "output_type": "stream",
     "text": [
      "(1985, 9)\n"
     ]
    },
    {
     "data": {
      "text/html": [
       "<div>\n",
       "<style scoped>\n",
       "    .dataframe tbody tr th:only-of-type {\n",
       "        vertical-align: middle;\n",
       "    }\n",
       "\n",
       "    .dataframe tbody tr th {\n",
       "        vertical-align: top;\n",
       "    }\n",
       "\n",
       "    .dataframe thead th {\n",
       "        text-align: right;\n",
       "    }\n",
       "</style>\n",
       "<table border=\"1\" class=\"dataframe\">\n",
       "  <thead>\n",
       "    <tr style=\"text-align: right;\">\n",
       "      <th></th>\n",
       "      <th>State_Name</th>\n",
       "      <th>District_Name</th>\n",
       "      <th>Crop_Year</th>\n",
       "      <th>Season</th>\n",
       "      <th>Crop</th>\n",
       "      <th>Area</th>\n",
       "      <th>Production</th>\n",
       "      <th>Zones</th>\n",
       "      <th>cat_crop</th>\n",
       "    </tr>\n",
       "  </thead>\n",
       "  <tbody>\n",
       "    <tr>\n",
       "      <th>189850</th>\n",
       "      <td>Tamil Nadu</td>\n",
       "      <td>VELLORE</td>\n",
       "      <td>2002</td>\n",
       "      <td>Whole Year</td>\n",
       "      <td>Coconut</td>\n",
       "      <td>18690.0</td>\n",
       "      <td>171300.0</td>\n",
       "      <td>South Zone</td>\n",
       "      <td>Other</td>\n",
       "    </tr>\n",
       "    <tr>\n",
       "      <th>189909</th>\n",
       "      <td>Tamil Nadu</td>\n",
       "      <td>VELLORE</td>\n",
       "      <td>2003</td>\n",
       "      <td>Whole Year</td>\n",
       "      <td>Coconut</td>\n",
       "      <td>21805.0</td>\n",
       "      <td>106800.0</td>\n",
       "      <td>South Zone</td>\n",
       "      <td>Other</td>\n",
       "    </tr>\n",
       "    <tr>\n",
       "      <th>189959</th>\n",
       "      <td>Tamil Nadu</td>\n",
       "      <td>VELLORE</td>\n",
       "      <td>2004</td>\n",
       "      <td>Whole Year</td>\n",
       "      <td>Coconut</td>\n",
       "      <td>20928.0</td>\n",
       "      <td>192400.0</td>\n",
       "      <td>South Zone</td>\n",
       "      <td>Other</td>\n",
       "    </tr>\n",
       "    <tr>\n",
       "      <th>189992</th>\n",
       "      <td>Tamil Nadu</td>\n",
       "      <td>VELLORE</td>\n",
       "      <td>2005</td>\n",
       "      <td>Whole Year</td>\n",
       "      <td>Coconut</td>\n",
       "      <td>23098.0</td>\n",
       "      <td>2765.0</td>\n",
       "      <td>South Zone</td>\n",
       "      <td>Other</td>\n",
       "    </tr>\n",
       "    <tr>\n",
       "      <th>190012</th>\n",
       "      <td>Tamil Nadu</td>\n",
       "      <td>VELLORE</td>\n",
       "      <td>2006</td>\n",
       "      <td>Whole Year</td>\n",
       "      <td>Coconut</td>\n",
       "      <td>22569.0</td>\n",
       "      <td>2654.0</td>\n",
       "      <td>South Zone</td>\n",
       "      <td>Other</td>\n",
       "    </tr>\n",
       "  </tbody>\n",
       "</table>\n",
       "</div>"
      ],
      "text/plain": [
       "        State_Name District_Name  Crop_Year      Season      Crop     Area  \\\n",
       "189850  Tamil Nadu       VELLORE       2002  Whole Year  Coconut   18690.0   \n",
       "189909  Tamil Nadu       VELLORE       2003  Whole Year  Coconut   21805.0   \n",
       "189959  Tamil Nadu       VELLORE       2004  Whole Year  Coconut   20928.0   \n",
       "189992  Tamil Nadu       VELLORE       2005  Whole Year  Coconut   23098.0   \n",
       "190012  Tamil Nadu       VELLORE       2006  Whole Year  Coconut   22569.0   \n",
       "\n",
       "        Production       Zones cat_crop  \n",
       "189850    171300.0  South Zone    Other  \n",
       "189909    106800.0  South Zone    Other  \n",
       "189959    192400.0  South Zone    Other  \n",
       "189992      2765.0  South Zone    Other  \n",
       "190012      2654.0  South Zone    Other  "
      ]
     },
     "execution_count": 119,
     "metadata": {},
     "output_type": "execute_result"
    }
   ],
   "source": [
    "df_coco = final_df[final_df[\"Crop\"]==\"Coconut \"]\n",
    "print(df_coco.shape)\n",
    "df_coco[:5]"
   ]
  },
  {
   "cell_type": "code",
   "execution_count": 120,
   "metadata": {},
   "outputs": [
    {
     "data": {
      "text/html": [
       "<iframe\n",
       "    scrolling=\"no\"\n",
       "    width=\"100%\"\n",
       "    height=\"545px\"\n",
       "    src=\"iframe_figures/figure_120.html\"\n",
       "    frameborder=\"0\"\n",
       "    allowfullscreen\n",
       "></iframe>\n"
      ]
     },
     "metadata": {},
     "output_type": "display_data"
    }
   ],
   "source": [
    "\n",
    "# Create the bar plot\n",
    "fig = go.Figure(data=go.Bar(\n",
    "    x=df_coco['Season'],\n",
    "    y=df_coco['Production'],\n",
    "))\n",
    "\n",
    "# Set the plot title\n",
    "fig.update_layout(title='Season vs Production')\n",
    "\n",
    "# Display the plot\n",
    "fig.show()\n"
   ]
  },
  {
   "cell_type": "code",
   "execution_count": 121,
   "metadata": {},
   "outputs": [
    {
     "data": {
      "text/html": [
       "<iframe\n",
       "    scrolling=\"no\"\n",
       "    width=\"100%\"\n",
       "    height=\"545px\"\n",
       "    src=\"iframe_figures/figure_121.html\"\n",
       "    frameborder=\"0\"\n",
       "    allowfullscreen\n",
       "></iframe>\n"
      ]
     },
     "metadata": {},
     "output_type": "display_data"
    }
   ],
   "source": [
    "\n",
    "# Create the bar plot\n",
    "fig = go.Figure(data=go.Bar(\n",
    "    x=df_coco['State_Name'],\n",
    "    y=df_coco['Production'],\n",
    "))\n",
    "\n",
    "# Set the plot title and axis labels\n",
    "fig.update_layout(\n",
    "    title='State_Name vs Production',\n",
    "    xaxis=dict(title='State_Name'),\n",
    "    yaxis=dict(title='Production')\n",
    ")\n",
    "\n",
    "# Rotate x-axis labels\n",
    "fig.update_layout(xaxis_tickangle=-90)\n",
    "\n",
    "# Display the plot\n",
    "fig.show()\n"
   ]
  },
  {
   "cell_type": "code",
   "execution_count": 122,
   "metadata": {},
   "outputs": [
    {
     "data": {
      "text/html": [
       "<div>\n",
       "<style scoped>\n",
       "    .dataframe tbody tr th:only-of-type {\n",
       "        vertical-align: middle;\n",
       "    }\n",
       "\n",
       "    .dataframe tbody tr th {\n",
       "        vertical-align: top;\n",
       "    }\n",
       "\n",
       "    .dataframe thead th {\n",
       "        text-align: right;\n",
       "    }\n",
       "</style>\n",
       "<table border=\"1\" class=\"dataframe\">\n",
       "  <thead>\n",
       "    <tr style=\"text-align: right;\">\n",
       "      <th></th>\n",
       "      <th>District_Name</th>\n",
       "      <th>Production</th>\n",
       "    </tr>\n",
       "  </thead>\n",
       "  <tbody>\n",
       "    <tr>\n",
       "      <th>80</th>\n",
       "      <td>KOZHIKODE</td>\n",
       "      <td>1.527871e+10</td>\n",
       "    </tr>\n",
       "    <tr>\n",
       "      <th>89</th>\n",
       "      <td>MALAPPURAM</td>\n",
       "      <td>1.451252e+10</td>\n",
       "    </tr>\n",
       "    <tr>\n",
       "      <th>134</th>\n",
       "      <td>THIRUVANANTHAPURAM</td>\n",
       "      <td>1.001337e+10</td>\n",
       "    </tr>\n",
       "    <tr>\n",
       "      <th>136</th>\n",
       "      <td>THRISSUR</td>\n",
       "      <td>9.920739e+09</td>\n",
       "    </tr>\n",
       "    <tr>\n",
       "      <th>66</th>\n",
       "      <td>KANNUR</td>\n",
       "      <td>9.780310e+09</td>\n",
       "    </tr>\n",
       "  </tbody>\n",
       "</table>\n",
       "</div>"
      ],
      "text/plain": [
       "          District_Name    Production\n",
       "80            KOZHIKODE  1.527871e+10\n",
       "89           MALAPPURAM  1.451252e+10\n",
       "134  THIRUVANANTHAPURAM  1.001337e+10\n",
       "136            THRISSUR  9.920739e+09\n",
       "66               KANNUR  9.780310e+09"
      ]
     },
     "execution_count": 122,
     "metadata": {},
     "output_type": "execute_result"
    }
   ],
   "source": [
    "top_coco_dist = df_coco.groupby(\"District_Name\")[\"Production\"].sum().reset_index().sort_values(by=\"Production\", ascending=False)\n",
    "top_coco_dist.head(5)"
   ]
  },
  {
   "cell_type": "code",
   "execution_count": 128,
   "metadata": {},
   "outputs": [
    {
     "data": {
      "text/html": [
       "<iframe\n",
       "    scrolling=\"no\"\n",
       "    width=\"100%\"\n",
       "    height=\"545px\"\n",
       "    src=\"iframe_figures/figure_128.html\"\n",
       "    frameborder=\"0\"\n",
       "    allowfullscreen\n",
       "></iframe>\n"
      ]
     },
     "metadata": {},
     "output_type": "display_data"
    }
   ],
   "source": [
    "\n",
    "# Create the bar plot\n",
    "fig = go.Figure(data=go.Bar(\n",
    "    x=top_coco_dist['District_Name'][:8],\n",
    "    y=top_coco_dist['Production'][:8],\n",
    "    marker_color=\"mediumaquamarine\"\n",
    "))\n",
    "\n",
    "# Set the plot title and axis labels\n",
    "fig.update_layout(\n",
    "    title='Top 8 Districts: District_Name vs Production',\n",
    "    xaxis=dict(title='District_Name'),\n",
    "    yaxis=dict(title='Production')\n",
    ")\n",
    "\n",
    "# Rotate x-axis labels\n",
    "fig.update_layout(xaxis_tickangle=-90)\n",
    "\n",
    "# Define the color scale\n",
    "colorscale = [[0, '#FF0000'], [0.5, '#00FF00'], [1, '#0000FF']]\n",
    "fig.update_traces(marker=dict(colorscale=colorscale))\n",
    "\n",
    "# Display the plot\n",
    "fig.show()\n"
   ]
  },
  {
   "cell_type": "code",
   "execution_count": 129,
   "metadata": {},
   "outputs": [
    {
     "data": {
      "text/html": [
       "<iframe\n",
       "    scrolling=\"no\"\n",
       "    width=\"100%\"\n",
       "    height=\"545px\"\n",
       "    src=\"iframe_figures/figure_129.html\"\n",
       "    frameborder=\"0\"\n",
       "    allowfullscreen\n",
       "></iframe>\n"
      ]
     },
     "metadata": {},
     "output_type": "display_data"
    }
   ],
   "source": [
    "\n",
    "# Create the bar plot\n",
    "fig = go.Figure(data=go.Bar(\n",
    "    x=df_coco['Crop_Year'],\n",
    "    y=df_coco['Production'],\n",
    "    marker=dict(color=df_coco['Crop_Year'], coloraxis=\"coloraxis\")\n",
    "))\n",
    "\n",
    "# Set the plot title and axis labels\n",
    "fig.update_layout(\n",
    "    title='Crop_Year vs Production',\n",
    "    xaxis=dict(title='Crop_Year'),\n",
    "    yaxis=dict(title='Production')\n",
    ")\n",
    "\n",
    "# Rotate x-axis labels\n",
    "fig.update_layout(xaxis_tickangle=-45)\n",
    "\n",
    "# Define the color scale\n",
    "colorscale = [[0, '#FF0000'], [0.5, '#00FF00'], [1, '#0000FF']]\n",
    "fig.update_traces(marker=dict(colorscale=colorscale))\n",
    "\n",
    "# Display the plot\n",
    "fig.show()\n"
   ]
  },
  {
   "cell_type": "code",
   "execution_count": 131,
   "metadata": {},
   "outputs": [
    {
     "data": {
      "text/html": [
       "<iframe\n",
       "    scrolling=\"no\"\n",
       "    width=\"100%\"\n",
       "    height=\"545px\"\n",
       "    src=\"iframe_figures/figure_131.html\"\n",
       "    frameborder=\"0\"\n",
       "    allowfullscreen\n",
       "></iframe>\n"
      ]
     },
     "metadata": {},
     "output_type": "display_data"
    }
   ],
   "source": [
    "\n",
    "# Create the scatter plot\n",
    "fig = go.Figure()\n",
    "\n",
    "fig.add_trace(go.Scatter(\n",
    "    x=df_coco['Area'],\n",
    "    y=df_coco['Production'],\n",
    "    mode='markers',\n",
    "    marker=dict(color='blue'),\n",
    "    name='Data'\n",
    "))\n",
    "\n",
    "# Add the regression line\n",
    "fig.add_trace(go.Scatter(\n",
    "    x=df_coco['Area'],\n",
    "    y=df_coco['Production'],\n",
    "    mode='lines',\n",
    "    line=dict(color='red'),\n",
    "    name='Regression Line',\n",
    "    showlegend=False,\n",
    "    hoverinfo='none',\n",
    "    line_shape='spline'\n",
    "))\n",
    "\n",
    "# Set the plot title and axis labels\n",
    "fig.update_layout(\n",
    "    title='Area vs Production',\n",
    "    xaxis=dict(title='Area'),\n",
    "    yaxis=dict(title='Production')\n",
    ")\n",
    "\n",
    "# Rotate x-axis labels\n",
    "fig.update_layout(xaxis_tickangle=-90)\n",
    "\n",
    "# Display the plot\n",
    "fig.show()\n"
   ]
  },
  {
   "cell_type": "markdown",
   "metadata": {},
   "source": [
    "#### Result:"
   ]
  },
  {
   "cell_type": "markdown",
   "metadata": {},
   "source": [
    "> Top crop grown in Southern Zone is coconut.\n",
    "\n",
    "> The coconut gets matured in Whole year season\n",
    "\n",
    "> Kerala state in southern zone yeilds a high amount of Coconut\n",
    "\n",
    "> Kozhikode and Malapuram districts of Kerala are rich in Coconut production\n",
    "\n",
    "> Coconut production was yeilded more during 2011 and 2014.\n",
    "\n",
    "> High coconut cultivation is directly proportional to area under cultivation."
   ]
  },
  {
   "cell_type": "code",
   "execution_count": 132,
   "metadata": {},
   "outputs": [],
   "source": [
    "# Top Crop produced in Central state"
   ]
  },
  {
   "cell_type": "code",
   "execution_count": 133,
   "metadata": {},
   "outputs": [
    {
     "name": "stdout",
     "output_type": "stream",
     "text": [
      "(33652, 9)\n"
     ]
    }
   ],
   "source": [
    "Central_Zone=final_df[final_df[\"Zones\"]==\"Central Zone\"]\n",
    "print(Central_Zone.shape)"
   ]
  },
  {
   "cell_type": "code",
   "execution_count": 134,
   "metadata": {},
   "outputs": [
    {
     "data": {
      "text/html": [
       "<div>\n",
       "<style scoped>\n",
       "    .dataframe tbody tr th:only-of-type {\n",
       "        vertical-align: middle;\n",
       "    }\n",
       "\n",
       "    .dataframe tbody tr th {\n",
       "        vertical-align: top;\n",
       "    }\n",
       "\n",
       "    .dataframe thead th {\n",
       "        text-align: right;\n",
       "    }\n",
       "</style>\n",
       "<table border=\"1\" class=\"dataframe\">\n",
       "  <thead>\n",
       "    <tr style=\"text-align: right;\">\n",
       "      <th></th>\n",
       "      <th>State_Name</th>\n",
       "      <th>District_Name</th>\n",
       "      <th>Crop_Year</th>\n",
       "      <th>Season</th>\n",
       "      <th>Crop</th>\n",
       "      <th>Area</th>\n",
       "      <th>Production</th>\n",
       "      <th>Zones</th>\n",
       "      <th>cat_crop</th>\n",
       "    </tr>\n",
       "  </thead>\n",
       "  <tbody>\n",
       "    <tr>\n",
       "      <th>105068</th>\n",
       "      <td>Madhya Pradesh</td>\n",
       "      <td>BHOPAL</td>\n",
       "      <td>1997</td>\n",
       "      <td>Kharif</td>\n",
       "      <td>Arhar/Tur</td>\n",
       "      <td>800.0</td>\n",
       "      <td>500.0</td>\n",
       "      <td>Central Zone</td>\n",
       "      <td>Pulses</td>\n",
       "    </tr>\n",
       "    <tr>\n",
       "      <th>105069</th>\n",
       "      <td>Madhya Pradesh</td>\n",
       "      <td>BHOPAL</td>\n",
       "      <td>1997</td>\n",
       "      <td>Kharif</td>\n",
       "      <td>Groundnut</td>\n",
       "      <td>200.0</td>\n",
       "      <td>200.0</td>\n",
       "      <td>Central Zone</td>\n",
       "      <td>Nuts</td>\n",
       "    </tr>\n",
       "    <tr>\n",
       "      <th>105070</th>\n",
       "      <td>Madhya Pradesh</td>\n",
       "      <td>BHOPAL</td>\n",
       "      <td>1997</td>\n",
       "      <td>Kharif</td>\n",
       "      <td>Jowar</td>\n",
       "      <td>3000.0</td>\n",
       "      <td>2600.0</td>\n",
       "      <td>Central Zone</td>\n",
       "      <td>Cereal</td>\n",
       "    </tr>\n",
       "    <tr>\n",
       "      <th>105071</th>\n",
       "      <td>Madhya Pradesh</td>\n",
       "      <td>BHOPAL</td>\n",
       "      <td>1997</td>\n",
       "      <td>Kharif</td>\n",
       "      <td>Maize</td>\n",
       "      <td>2100.0</td>\n",
       "      <td>1200.0</td>\n",
       "      <td>Central Zone</td>\n",
       "      <td>Cereal</td>\n",
       "    </tr>\n",
       "    <tr>\n",
       "      <th>105072</th>\n",
       "      <td>Madhya Pradesh</td>\n",
       "      <td>BHOPAL</td>\n",
       "      <td>1997</td>\n",
       "      <td>Kharif</td>\n",
       "      <td>Paddy</td>\n",
       "      <td>600.0</td>\n",
       "      <td>400.0</td>\n",
       "      <td>Central Zone</td>\n",
       "      <td>Cereal</td>\n",
       "    </tr>\n",
       "    <tr>\n",
       "      <th>105073</th>\n",
       "      <td>Madhya Pradesh</td>\n",
       "      <td>BHOPAL</td>\n",
       "      <td>1997</td>\n",
       "      <td>Kharif</td>\n",
       "      <td>Soyabean</td>\n",
       "      <td>74700.0</td>\n",
       "      <td>68200.0</td>\n",
       "      <td>Central Zone</td>\n",
       "      <td>Beans</td>\n",
       "    </tr>\n",
       "    <tr>\n",
       "      <th>105074</th>\n",
       "      <td>Madhya Pradesh</td>\n",
       "      <td>BHOPAL</td>\n",
       "      <td>1997</td>\n",
       "      <td>Rabi</td>\n",
       "      <td>Linseed</td>\n",
       "      <td>800.0</td>\n",
       "      <td>500.0</td>\n",
       "      <td>Central Zone</td>\n",
       "      <td>Oilseeds</td>\n",
       "    </tr>\n",
       "    <tr>\n",
       "      <th>105075</th>\n",
       "      <td>Madhya Pradesh</td>\n",
       "      <td>BHOPAL</td>\n",
       "      <td>1997</td>\n",
       "      <td>Rabi</td>\n",
       "      <td>Rapeseed &amp;Mustard</td>\n",
       "      <td>200.0</td>\n",
       "      <td>100.0</td>\n",
       "      <td>Central Zone</td>\n",
       "      <td>Oilseeds</td>\n",
       "    </tr>\n",
       "    <tr>\n",
       "      <th>105076</th>\n",
       "      <td>Madhya Pradesh</td>\n",
       "      <td>BHOPAL</td>\n",
       "      <td>1997</td>\n",
       "      <td>Rabi</td>\n",
       "      <td>Wheat</td>\n",
       "      <td>78800.0</td>\n",
       "      <td>129500.0</td>\n",
       "      <td>Central Zone</td>\n",
       "      <td>Cereal</td>\n",
       "    </tr>\n",
       "  </tbody>\n",
       "</table>\n",
       "</div>"
      ],
      "text/plain": [
       "            State_Name District_Name  Crop_Year  Season               Crop  \\\n",
       "105068  Madhya Pradesh        BHOPAL       1997  Kharif          Arhar/Tur   \n",
       "105069  Madhya Pradesh        BHOPAL       1997  Kharif          Groundnut   \n",
       "105070  Madhya Pradesh        BHOPAL       1997  Kharif              Jowar   \n",
       "105071  Madhya Pradesh        BHOPAL       1997  Kharif              Maize   \n",
       "105072  Madhya Pradesh        BHOPAL       1997  Kharif              Paddy   \n",
       "105073  Madhya Pradesh        BHOPAL       1997  Kharif           Soyabean   \n",
       "105074  Madhya Pradesh        BHOPAL       1997    Rabi            Linseed   \n",
       "105075  Madhya Pradesh        BHOPAL       1997    Rabi  Rapeseed &Mustard   \n",
       "105076  Madhya Pradesh        BHOPAL       1997    Rabi              Wheat   \n",
       "\n",
       "           Area  Production         Zones  cat_crop  \n",
       "105068    800.0       500.0  Central Zone    Pulses  \n",
       "105069    200.0       200.0  Central Zone      Nuts  \n",
       "105070   3000.0      2600.0  Central Zone    Cereal  \n",
       "105071   2100.0      1200.0  Central Zone    Cereal  \n",
       "105072    600.0       400.0  Central Zone    Cereal  \n",
       "105073  74700.0     68200.0  Central Zone     Beans  \n",
       "105074    800.0       500.0  Central Zone  Oilseeds  \n",
       "105075    200.0       100.0  Central Zone  Oilseeds  \n",
       "105076  78800.0    129500.0  Central Zone    Cereal  "
      ]
     },
     "execution_count": 134,
     "metadata": {},
     "output_type": "execute_result"
    }
   ],
   "source": [
    "Central_Zone.head(9)"
   ]
  },
  {
   "cell_type": "code",
   "execution_count": 139,
   "metadata": {},
   "outputs": [
    {
     "data": {
      "text/html": [
       "<iframe\n",
       "    scrolling=\"no\"\n",
       "    width=\"100%\"\n",
       "    height=\"545px\"\n",
       "    src=\"iframe_figures/figure_139.html\"\n",
       "    frameborder=\"0\"\n",
       "    allowfullscreen\n",
       "></iframe>\n"
      ]
     },
     "metadata": {},
     "output_type": "display_data"
    }
   ],
   "source": [
    "df_central_crop = Central_Zone.groupby(\"Crop\")[\"Production\"].sum().reset_index().sort_values(by=\"Production\",ascending=False).head(10)\n",
    "# Create the bar plot\n",
    "fig = go.Figure()\n",
    "\n",
    "fig.add_trace(go.Bar(\n",
    "    x=df_central_crop['Crop'],\n",
    "    y=df_central_crop['Production'],\n",
    "    marker=dict(color='mediumturquoise')\n",
    "))\n",
    "\n",
    "# Set the y-axis scale to logarithmic\n",
    "fig.update_yaxes(type='log')\n",
    "\n",
    "# Set the plot title and axis labels\n",
    "fig.update_layout(\n",
    "    title='Top crop produced in Central zone',\n",
    "    xaxis=dict(title='Crop'),\n",
    "    yaxis=dict(title='Production')\n",
    ")\n",
    "\n",
    "# Rotate x-axis labels\n",
    "fig.update_layout(xaxis_tickangle=-90)\n",
    "\n",
    "# Display the plot\n",
    "fig.show()"
   ]
  },
  {
   "cell_type": "code",
   "execution_count": 141,
   "metadata": {},
   "outputs": [
    {
     "data": {
      "text/html": [
       "<iframe\n",
       "    scrolling=\"no\"\n",
       "    width=\"100%\"\n",
       "    height=\"545px\"\n",
       "    src=\"iframe_figures/figure_141.html\"\n",
       "    frameborder=\"0\"\n",
       "    allowfullscreen\n",
       "></iframe>\n"
      ]
     },
     "metadata": {},
     "output_type": "display_data"
    },
    {
     "data": {
      "text/html": [
       "<div>\n",
       "<style scoped>\n",
       "    .dataframe tbody tr th:only-of-type {\n",
       "        vertical-align: middle;\n",
       "    }\n",
       "\n",
       "    .dataframe tbody tr th {\n",
       "        vertical-align: top;\n",
       "    }\n",
       "\n",
       "    .dataframe thead th {\n",
       "        text-align: right;\n",
       "    }\n",
       "</style>\n",
       "<table border=\"1\" class=\"dataframe\">\n",
       "  <thead>\n",
       "    <tr style=\"text-align: right;\">\n",
       "      <th></th>\n",
       "      <th>State_Name</th>\n",
       "      <th>Production</th>\n",
       "    </tr>\n",
       "  </thead>\n",
       "  <tbody>\n",
       "    <tr>\n",
       "      <th>1</th>\n",
       "      <td>Madhya Pradesh</td>\n",
       "      <td>4.555427e+08</td>\n",
       "    </tr>\n",
       "    <tr>\n",
       "      <th>0</th>\n",
       "      <td>Chhattisgarh</td>\n",
       "      <td>1.055266e+08</td>\n",
       "    </tr>\n",
       "  </tbody>\n",
       "</table>\n",
       "</div>"
      ],
      "text/plain": [
       "       State_Name    Production\n",
       "1  Madhya Pradesh  4.555427e+08\n",
       "0    Chhattisgarh  1.055266e+08"
      ]
     },
     "execution_count": 141,
     "metadata": {},
     "output_type": "execute_result"
    }
   ],
   "source": [
    "\n",
    "\n",
    "# Create the bar plot\n",
    "fig = go.Figure()\n",
    "\n",
    "fig.add_trace(go.Bar(\n",
    "    x=Central_Zone['State_Name'],\n",
    "    y=Central_Zone['Production'],\n",
    "    marker=dict(color='mediumorchid')\n",
    "))\n",
    "\n",
    "# Set the y-axis scale to logarithmic\n",
    "fig.update_yaxes(type='log')\n",
    "\n",
    "# Set the plot title and axis labels\n",
    "fig.update_layout(\n",
    "    title='Central-Zone Production',\n",
    "    xaxis=dict(title='State Name'),\n",
    "    yaxis=dict(title='Production')\n",
    ")\n",
    "\n",
    "# Rotate x-axis labels\n",
    "fig.update_layout(xaxis_tickangle=-90)\n",
    "\n",
    "# Display the plot\n",
    "fig.show()\n",
    "\n",
    "Central_Zone.groupby(by='State_Name')['Production'].sum().reset_index().sort_values(by='Production', ascending=False)\n"
   ]
  },
  {
   "cell_type": "code",
   "execution_count": 142,
   "metadata": {},
   "outputs": [],
   "source": [
    "# crop categories and their production rate"
   ]
  },
  {
   "cell_type": "code",
   "execution_count": 143,
   "metadata": {},
   "outputs": [
    {
     "data": {
      "text/html": [
       "<iframe\n",
       "    scrolling=\"no\"\n",
       "    width=\"100%\"\n",
       "    height=\"545px\"\n",
       "    src=\"iframe_figures/figure_143.html\"\n",
       "    frameborder=\"0\"\n",
       "    allowfullscreen\n",
       "></iframe>\n"
      ]
     },
     "metadata": {},
     "output_type": "display_data"
    },
    {
     "data": {
      "text/html": [
       "<div>\n",
       "<style scoped>\n",
       "    .dataframe tbody tr th:only-of-type {\n",
       "        vertical-align: middle;\n",
       "    }\n",
       "\n",
       "    .dataframe tbody tr th {\n",
       "        vertical-align: top;\n",
       "    }\n",
       "\n",
       "    .dataframe thead th {\n",
       "        text-align: right;\n",
       "    }\n",
       "</style>\n",
       "<table border=\"1\" class=\"dataframe\">\n",
       "  <thead>\n",
       "    <tr style=\"text-align: right;\">\n",
       "      <th></th>\n",
       "      <th>cat_crop</th>\n",
       "      <th>Production</th>\n",
       "    </tr>\n",
       "  </thead>\n",
       "  <tbody>\n",
       "    <tr>\n",
       "      <th>7</th>\n",
       "      <td>Other</td>\n",
       "      <td>1.308083e+11</td>\n",
       "    </tr>\n",
       "    <tr>\n",
       "      <th>2</th>\n",
       "      <td>Commercial</td>\n",
       "      <td>6.612507e+09</td>\n",
       "    </tr>\n",
       "    <tr>\n",
       "      <th>1</th>\n",
       "      <td>Cereal</td>\n",
       "      <td>3.944948e+09</td>\n",
       "    </tr>\n",
       "    <tr>\n",
       "      <th>9</th>\n",
       "      <td>Spices</td>\n",
       "      <td>1.827835e+09</td>\n",
       "    </tr>\n",
       "    <tr>\n",
       "      <th>8</th>\n",
       "      <td>Pulses</td>\n",
       "      <td>1.792185e+09</td>\n",
       "    </tr>\n",
       "    <tr>\n",
       "      <th>10</th>\n",
       "      <td>Vegetables</td>\n",
       "      <td>1.775118e+09</td>\n",
       "    </tr>\n",
       "    <tr>\n",
       "      <th>6</th>\n",
       "      <td>Oilseeds</td>\n",
       "      <td>7.527392e+08</td>\n",
       "    </tr>\n",
       "    <tr>\n",
       "      <th>3</th>\n",
       "      <td>Fibres</td>\n",
       "      <td>5.581822e+08</td>\n",
       "    </tr>\n",
       "    <tr>\n",
       "      <th>4</th>\n",
       "      <td>Fruits</td>\n",
       "      <td>5.360099e+08</td>\n",
       "    </tr>\n",
       "    <tr>\n",
       "      <th>0</th>\n",
       "      <td>Beans</td>\n",
       "      <td>4.590149e+08</td>\n",
       "    </tr>\n",
       "    <tr>\n",
       "      <th>5</th>\n",
       "      <td>Nuts</td>\n",
       "      <td>2.913803e+08</td>\n",
       "    </tr>\n",
       "  </tbody>\n",
       "</table>\n",
       "</div>"
      ],
      "text/plain": [
       "      cat_crop    Production\n",
       "7        Other  1.308083e+11\n",
       "2   Commercial  6.612507e+09\n",
       "1       Cereal  3.944948e+09\n",
       "9       Spices  1.827835e+09\n",
       "8       Pulses  1.792185e+09\n",
       "10  Vegetables  1.775118e+09\n",
       "6     Oilseeds  7.527392e+08\n",
       "3       Fibres  5.581822e+08\n",
       "4       Fruits  5.360099e+08\n",
       "0        Beans  4.590149e+08\n",
       "5         Nuts  2.913803e+08"
      ]
     },
     "execution_count": 143,
     "metadata": {},
     "output_type": "execute_result"
    }
   ],
   "source": [
    "\n",
    "# Create the line plot\n",
    "fig = go.Figure()\n",
    "\n",
    "fig.add_trace(go.Scatter(\n",
    "    x=final_df['cat_crop'],\n",
    "    y=final_df['Production'],\n",
    "    mode='lines',\n",
    "    marker=dict(color='blue')\n",
    "))\n",
    "\n",
    "# Set the y-axis scale to logarithmic\n",
    "fig.update_yaxes(type='log')\n",
    "\n",
    "# Set the plot title and axis labels\n",
    "fig.update_layout(\n",
    "    title='Crop categories vs Production rate',\n",
    "    xaxis=dict(title='Crop categories'),\n",
    "    yaxis=dict(title='Production')\n",
    ")\n",
    "\n",
    "# Rotate x-axis labels\n",
    "fig.update_layout(xaxis_tickangle=-90)\n",
    "\n",
    "# Display the plot\n",
    "fig.show()\n",
    "\n",
    "final_df.groupby(by='cat_crop')['Production'].sum().reset_index().sort_values(by='Production',ascending=False)"
   ]
  },
  {
   "cell_type": "code",
   "execution_count": null,
   "metadata": {},
   "outputs": [],
   "source": []
  }
 ],
 "metadata": {
  "kernelspec": {
   "display_name": "Python 3",
   "language": "python",
   "name": "python3"
  },
  "language_info": {
   "codemirror_mode": {
    "name": "ipython",
    "version": 3
   },
   "file_extension": ".py",
   "mimetype": "text/x-python",
   "name": "python",
   "nbconvert_exporter": "python",
   "pygments_lexer": "ipython3",
   "version": "3.8.2"
  }
 },
 "nbformat": 4,
 "nbformat_minor": 4
}
