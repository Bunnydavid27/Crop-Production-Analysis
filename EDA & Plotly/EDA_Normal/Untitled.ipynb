{
 "cells": [
  {
   "cell_type": "code",
   "execution_count": 1,
   "id": "c56cc840",
   "metadata": {},
   "outputs": [
    {
     "name": "stdout",
     "output_type": "stream",
     "text": [
      "Requirement already satisfied: bokeh in c:\\users\\david\\anaconda3\\lib\\site-packages (2.4.3)\n",
      "Requirement already satisfied: tornado>=5.1 in c:\\users\\david\\anaconda3\\lib\\site-packages (from bokeh) (6.1)\n",
      "Requirement already satisfied: numpy>=1.11.3 in c:\\users\\david\\anaconda3\\lib\\site-packages (from bokeh) (1.21.5)\n",
      "Requirement already satisfied: packaging>=16.8 in c:\\users\\david\\anaconda3\\lib\\site-packages (from bokeh) (21.3)\n",
      "Requirement already satisfied: pillow>=7.1.0 in c:\\users\\david\\anaconda3\\lib\\site-packages (from bokeh) (8.4.0)\n",
      "Requirement already satisfied: Jinja2>=2.9 in c:\\users\\david\\anaconda3\\lib\\site-packages (from bokeh) (2.11.3)\n",
      "Requirement already satisfied: typing-extensions>=3.10.0 in c:\\users\\david\\anaconda3\\lib\\site-packages (from bokeh) (4.3.0)\n",
      "Requirement already satisfied: PyYAML>=3.10 in c:\\users\\david\\anaconda3\\lib\\site-packages (from bokeh) (5.4.1)\n",
      "Requirement already satisfied: MarkupSafe>=0.23 in c:\\users\\david\\anaconda3\\lib\\site-packages (from Jinja2>=2.9->bokeh) (2.0.1)\n",
      "Requirement already satisfied: pyparsing!=3.0.5,>=2.0.2 in c:\\users\\david\\anaconda3\\lib\\site-packages (from packaging>=16.8->bokeh) (3.0.9)\n",
      "Note: you may need to restart the kernel to use updated packages.\n"
     ]
    }
   ],
   "source": [
    "pip install bokeh"
   ]
  },
  {
   "cell_type": "code",
   "execution_count": null,
   "id": "a22cbc51",
   "metadata": {},
   "outputs": [],
   "source": []
  }
 ],
 "metadata": {
  "kernelspec": {
   "display_name": "Python 3 (ipykernel)",
   "language": "python",
   "name": "python3"
  },
  "language_info": {
   "codemirror_mode": {
    "name": "ipython",
    "version": 3
   },
   "file_extension": ".py",
   "mimetype": "text/x-python",
   "name": "python",
   "nbconvert_exporter": "python",
   "pygments_lexer": "ipython3",
   "version": "3.9.13"
  }
 },
 "nbformat": 4,
 "nbformat_minor": 5
}
